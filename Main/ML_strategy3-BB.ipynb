{
 "cells": [
  {
   "cell_type": "markdown",
   "metadata": {
    "tags": []
   },
   "source": [
    "# Trade Strategy 1 with Machine Learning\n",
    "\n",
    "\n",
    "## Outline:\n",
    "* Set parameters of interest & Import Data\n",
    "\n",
    "* Establish Trading Strategy with signals\n",
    "\n",
    "* Identify Training & Testing dataset, Scale data if necessary\n",
    "\n",
    "* Run model 1: Support Vector Classifier\n",
    "\n",
    "    * Evaluate Performance\n",
    "    * Backtest\n",
    "\n",
    "* Run model 2: Random Forest Classififier\n",
    "\n",
    "    * Evaluate Performance\n",
    "    * Backtest\n",
    "    \n",
    "* Run model 2: k Nearest Neighbor Classifier\n",
    "\n",
    "    * Evaluate Performance\n",
    "    * Backtest"
   ]
  },
  {
   "cell_type": "code",
   "execution_count": null,
   "metadata": {},
   "outputs": [],
   "source": [
    "# Imports\n",
    "import pandas as pd\n",
    "import numpy as np\n",
    "from pathlib import Path\n",
    "import hvplot.pandas\n",
    "import matplotlib.pyplot as plt\n",
    "from finta import TA\n",
    "from sklearn import svm\n",
    "from sklearn.preprocessing import StandardScaler\n",
    "from pandas.tseries.offsets import DateOffset\n",
    "from sklearn.metrics import classification_report\n",
    "from sklearn.metrics import mean_squared_error, r2_score\n",
    "import math"
   ]
  },
  {
   "cell_type": "markdown",
   "metadata": {},
   "source": [
    "### Set Parameters & Import the OHLCV dataset into a Pandas DataFrame."
   ]
  },
  {
   "cell_type": "code",
   "execution_count": null,
   "metadata": {},
   "outputs": [],
   "source": [
    "# choose coin of interest: BTC,ETH,XRP,DOGE,ADA\n",
    "# choose pair of interest: USD, USDT\n",
    "coin = 'BTC'\n",
    "pair = 'USD'\n",
    "\n",
    "# choose exchange of interest Bitfinex, Binance, Coinbase\n",
    "exchange = 'Bitfinex'\n",
    "\n",
    "# choose data interval of interest 1h, 1d\n",
    "time = '1h'\n",
    "\n",
    "# get saved histoical csv data from Data folder, which was downloaded from cryptoDataOnline.com\n",
    "df = pd.read_csv(Path(f\"./Data/Formatted_Data/{exchange}/{pair}/{exchange}_{coin}_{time}.csv\"), index_col= \"Datetime\", parse_dates= True, infer_datetime_format = True)\n",
    "display (df.head())\n"
   ]
  },
  {
   "cell_type": "code",
   "execution_count": null,
   "metadata": {},
   "outputs": [],
   "source": [
    "\n",
    "dataframe = df.drop(columns=['Exchange','Symbol_Pair']).copy()\n",
    "dataframe = dataframe.rename(columns={'Volume_in_BTC': 'Volume'})\n",
    "dataframe.head(2)"
   ]
  },
  {
   "cell_type": "code",
   "execution_count": null,
   "metadata": {},
   "outputs": [],
   "source": [
    "dataframe.shape"
   ]
  },
  {
   "cell_type": "markdown",
   "metadata": {},
   "source": [
    "## Define trading strategy with entry and exit signals"
   ]
  },
  {
   "cell_type": "code",
   "execution_count": null,
   "metadata": {},
   "outputs": [],
   "source": [
    "#Strategy 1\n",
    "bb_df = TA.BBANDS(dataframe)\n",
    "dataframe = pd.concat([dataframe, bb_df], axis=1)\n",
    "\n",
    "\n",
    "\n",
    "# ADD SOMETHING FOR VOLUME AVG?, STD?\n",
    "   \n",
    "dataframe.tail()"
   ]
  },
  {
   "cell_type": "code",
   "execution_count": null,
   "metadata": {},
   "outputs": [],
   "source": [
    "#plot\n",
    "dataframe.hvplot(x='Datetime', y=['Close', 'BB_UPPER','BB_MIDDLE', 'BB_LOWER'], value_label='USD')"
   ]
  },
  {
   "cell_type": "code",
   "execution_count": null,
   "metadata": {},
   "outputs": [],
   "source": [
    "# Entry & Exit Signals\n",
    "dataframe['Signal'] = 0.0\n",
    "\n",
    "for index, row in dataframe.iterrows():\n",
    "    if row['Close'] < row['BB_LOWER']:\n",
    "        dataframe.loc[index, 'Signal'] = 1.0 #Buy Signal\n",
    "    if row['Close'] > row['BB_UPPER']:\n",
    "        dataframe.loc[index, 'Signal'] = -1.0 #Sell Signal\n",
    "        \n"
   ]
  },
  {
   "cell_type": "code",
   "execution_count": null,
   "metadata": {},
   "outputs": [],
   "source": [
    "dataframe['Signal'].value_counts()"
   ]
  },
  {
   "cell_type": "code",
   "execution_count": null,
   "metadata": {},
   "outputs": [],
   "source": [
    "# Calculate the strategy returns and add them to the DataFrame\n",
    "dataframe['Actual Returns'] = dataframe['Close'].pct_change()\n",
    "dataframe['Strategy Returns'] = dataframe['Actual Returns'] * dataframe['Signal'].shift()"
   ]
  },
  {
   "cell_type": "code",
   "execution_count": null,
   "metadata": {},
   "outputs": [],
   "source": [
    "# Plot Strategy Returns to examine performance\n",
    "strat = (1 + dataframe['Strategy Returns']).cumprod().plot(title=\"Strategy Returns- Bollinger Bands\")\n",
    "act = (1 + dataframe['Actual Returns']).cumprod().plot()\n",
    "dual = strat * act\n",
    "dual"
   ]
  },
  {
   "cell_type": "code",
   "execution_count": null,
   "metadata": {},
   "outputs": [],
   "source": [
    "(1 + dataframe['Actual Returns']).cumprod().sum()"
   ]
  },
  {
   "cell_type": "code",
   "execution_count": null,
   "metadata": {},
   "outputs": [],
   "source": [
    "(1 + dataframe['Strategy Returns']).cumprod().sum()"
   ]
  },
  {
   "cell_type": "code",
   "execution_count": null,
   "metadata": {},
   "outputs": [],
   "source": [
    "#Plot\n",
    "# Visualize exit position relative to close price\n",
    "entry = dataframe[dataframe[\"Signal\"] == 1.0][\"Close\"].hvplot.scatter(\n",
    "    color='green',\n",
    "    marker='^',\n",
    "    size=200,\n",
    "    legend=False,\n",
    "    ylabel='Price in $',\n",
    "    width=1000,\n",
    "    height=400\n",
    ")\n",
    "\n",
    "# Visualize exit position relative to close price\n",
    "exit = dataframe[dataframe[\"Signal\"] == -1.0][\"Close\"].hvplot.scatter(\n",
    "    color='red',\n",
    "    marker='v',\n",
    "    size=200,\n",
    "    legend=False,\n",
    "    ylabel='Price in $',\n",
    "    width=1000,\n",
    "    height=400\n",
    ")\n",
    "\n",
    "# Visualize close price for the investment\n",
    "security_close = dataframe[[\"Close\"]].hvplot(\n",
    "    line_color='lightgray',\n",
    "    ylabel='Price in $',\n",
    "    width=1000,\n",
    "    height=400\n",
    ")\n",
    "\n",
    "bb_upper = dataframe[[\"BB_UPPER\"]].hvplot(\n",
    "    line_color='purple',\n",
    "    ylabel='Price in $',\n",
    "    width=1000,\n",
    "    height=400\n",
    ")\n",
    "\n",
    "\n",
    "bb_middle = dataframe[[\"BB_MIDDLE\"]].hvplot(\n",
    "    line_color='orange',\n",
    "    ylabel='Price in $',\n",
    "    width=1000,\n",
    "    height=400\n",
    ")\n",
    "\n",
    "bb_lower = dataframe[[\"BB_LOWER\"]].hvplot(\n",
    "    line_color='blue',\n",
    "    ylabel='Price in $',\n",
    "    width=1000,\n",
    "    height=400\n",
    ")\n",
    "\n",
    "\n",
    "# Overlay plots\n",
    "bbands_plot = security_close * bb_upper * bb_middle * bb_lower * entry * exit\n",
    "bbands_plot"
   ]
  },
  {
   "cell_type": "markdown",
   "metadata": {},
   "source": [
    "## Define training and testing datasets"
   ]
  },
  {
   "cell_type": "code",
   "execution_count": null,
   "metadata": {},
   "outputs": [],
   "source": [
    "dataframe = dataframe.sort_values(by=[\"Datetime\"], ascending=True)"
   ]
  },
  {
   "cell_type": "code",
   "execution_count": null,
   "metadata": {},
   "outputs": [],
   "source": [
    "# Assign a copy of the sma_fast and sma_slow columns to a features DataFrame called X\n",
    "X = dataframe.drop(['Signal'], axis=1).shift().dropna().copy()\n",
    "# Create the target set selecting the Signal column and assiging it to y\n",
    "y = dataframe['Signal'].dropna().copy()"
   ]
  },
  {
   "cell_type": "code",
   "execution_count": null,
   "metadata": {},
   "outputs": [],
   "source": [
    "display(X.head(2))\n",
    "display(X.tail(2))\n",
    "y.head()"
   ]
  },
  {
   "cell_type": "code",
   "execution_count": null,
   "metadata": {},
   "outputs": [],
   "source": [
    "display(X.shape)\n",
    "display(y.shape)\n",
    "display(X.index.min())\n",
    "display(X.index.max())\n",
    "display(y.index.min())\n",
    "display(y.index.max())"
   ]
  },
  {
   "cell_type": "code",
   "execution_count": null,
   "metadata": {},
   "outputs": [],
   "source": [
    "# Review the value counts\n",
    "y.value_counts()"
   ]
  },
  {
   "cell_type": "code",
   "execution_count": null,
   "metadata": {},
   "outputs": [],
   "source": [
    "# Select the start of the training period\n",
    "training_begin = X.index.min()\n",
    "training_end = X.index.min() + DateOffset(months=3)\n",
    "\n",
    "# Generate the X_train and y_train DataFrames\n",
    "X_train = X.loc[training_begin:training_end]\n",
    "y_train = y.loc[training_begin:training_end]\n",
    "\n",
    "# Review the X_train DataFrame\n",
    "display(X_train.head(2))\n",
    "display(X_train.tail(2))\n",
    "\n",
    "# Generate the X_test and y_test DataFrames\n",
    "X_test = X.loc[training_end+DateOffset(hours=1):]\n",
    "y_test = y.loc[training_end+DateOffset(hours=1):]\n",
    "\n",
    "# Review the X_test DataFrame\n",
    "display(X_test.head(2))\n",
    "display(X_test.tail(2))"
   ]
  },
  {
   "cell_type": "code",
   "execution_count": null,
   "metadata": {},
   "outputs": [],
   "source": [
    "# Create a StandardScaler instance\n",
    "scaler = StandardScaler()\n",
    "\n",
    "# Apply the scaler model to fit the X-train data\n",
    "X_scaler = scaler.fit(X_train)\n",
    "\n",
    "# Transform the X_train and X_test DataFrames using the X_scaler\n",
    "X_train_scaled = X_scaler.transform(X_train)\n",
    "X_test_scaled = X_scaler.transform(X_test)"
   ]
  },
  {
   "cell_type": "code",
   "execution_count": null,
   "metadata": {},
   "outputs": [],
   "source": [
    "# from imblearn.over_sampling import RandomOverSampler\n",
    "# ros = RandomOverSampler(random_state = 1)\n",
    "# X_resampled, y_resampled = ros.fit_resample(X_train_scaled, y_train)"
   ]
  },
  {
   "cell_type": "markdown",
   "metadata": {},
   "source": [
    "## Model #1: Support Vector Classifier (SVC) from sklearn library"
   ]
  },
  {
   "cell_type": "code",
   "execution_count": null,
   "metadata": {},
   "outputs": [],
   "source": [
    "# From SVM, instantiate SVC classifier model instance\n",
    "rbf_svc_model = svm.SVC(kernel='rbf', gamma=0.5, C=0.1)\n",
    "poly_svc_model = svm.SVC(kernel='poly', degree=3,C=1)\n",
    "\n",
    "rbf_svc_model = rbf_svc_model.fit(X_train_scaled, y_train)\n",
    "poly_svc_model = poly_svc_model.fit(X_train_scaled, y_train)\n",
    "\n",
    "rbf_svc_pred = rbf_svc_model.predict(X_test_scaled)\n",
    "poly_svc_pred = poly_svc_model.predict(X_test_scaled)"
   ]
  },
  {
   "cell_type": "markdown",
   "metadata": {},
   "source": [
    "### Evaluation metrics"
   ]
  },
  {
   "cell_type": "code",
   "execution_count": null,
   "metadata": {},
   "outputs": [],
   "source": [
    "display(rbf_svc_pred.shape)\n",
    "display(poly_svc_pred.shape)"
   ]
  },
  {
   "cell_type": "code",
   "execution_count": null,
   "metadata": {},
   "outputs": [],
   "source": [
    "rbf_svc_testing_report = classification_report(y_test, rbf_svc_pred)\n",
    "print(svc_testing_report)\n",
    "poly_svc_testing_report = classification_report(y_test, poly_svc_pred)\n",
    "print(svc_testing_report)"
   ]
  },
  {
   "cell_type": "code",
   "execution_count": null,
   "metadata": {},
   "outputs": [],
   "source": [
    "# Calculate R_Square and Adjusted R Square\n",
    "# The closer R2 and R2_adj are to 1 the better the model fit\n",
    "R2rbf = r2_score(y_test, rbf_svc_pred)\n",
    "R2poly = r2_score(y_test, poly_svc_pred)\n",
    "#n is the sample size and p is the number of independent variables\n",
    "R2_adj_rbf = 1-(1-R2rbf)*((len(y_test))-1)/((len(y_test))-1-1)\n",
    "R2_adj_poly = 1-(1-R2poly)*((len(y_test))-1)/((len(y_test))-1-1)\n",
    "print(\"The R squared using the RBF kernel in SVC is\", R2rbf)\n",
    "print (\"The R squared adjusted is\", R2_adj_rbf)\n",
    "print(\"The R squared using the Polynomial kernel in SVC is\", R2poly)\n",
    "print (\"The R squared adjusted is\", R2_adj_poly)"
   ]
  },
  {
   "cell_type": "code",
   "execution_count": null,
   "metadata": {},
   "outputs": [],
   "source": [
    "# Calculate mean squared error and sqr rt of mean squared error\n",
    "# The closer MSE & srMSE are to 0 the better the model fit\n",
    "mse_rbf = (mean_squared_error(y_test, rbf_svc_pred))\n",
    "mse_poly = (mean_squared_error(y_test, poly_svc_pred))\n",
    "sqr_mse_rbf = (math.sqrt(mean_squared_error(y_test, rbf_svc_pred)))\n",
    "sqr_mse_poly = (math.sqrt(mean_squared_error(y_test, poly_svc_pred)))\n",
    "print(f\"The mean square error using the RBF kernel in SVC is\", mse_rbf)\n",
    "print(f\"The square root of the mse is\", sqr_mse_rbf)\n",
    "print(f\"The mean square error using the Polynomial kernel in SVC is\", mse_poly)\n",
    "print(f\"The square root of the mse is\", sqr_mse_ploy)"
   ]
  },
  {
   "cell_type": "code",
   "execution_count": null,
   "metadata": {},
   "outputs": [],
   "source": [
    "# Create a predictions DataFrame\n",
    "predictions_df = pd.DataFrame(index=X_test.index)\n",
    "# Add the SVM model predictions to the DataFrame\n",
    "predictions_df['rbfSVC Predicted'] = rbf_svm_pred\n",
    "predictions_df['polySVC Predicted'] = poly_svm_pred\n",
    "# Add the actual returns to the DataFrame\n",
    "predictions_df['Actual Returns'] = X[\"Actual Returns\"]\n",
    "\n",
    "# Add the strategy returns to the DataFrame\n",
    "predictions_df['rbfSVC Strategy Returns'] = predictions_df['Actual Returns'] * predictions_df['rbfSVC Predicted']\n",
    "predictions_df['polySVC Strategy Returns'] = predictions_df['Actual Returns'] * predictions_df['polySVC Predicted']\n",
    "\n",
    "# Review the DataFrame\n",
    "display(predictions_df.head())\n",
    "display(predictions_df.tail())"
   ]
  },
  {
   "cell_type": "code",
   "execution_count": null,
   "metadata": {},
   "outputs": [],
   "source": [
    "(1 + predictions_df[['rbfSVC Strategy Returns']]).cumprod().sum()\n",
    "(1 + predictions_df[['polySVC Strategy Returns']]).cumprod().sum()"
   ]
  },
  {
   "cell_type": "code",
   "execution_count": null,
   "metadata": {},
   "outputs": [],
   "source": [
    "(1 + predictions_df[['Actual Returns']]).cumprod().sum()"
   ]
  },
  {
   "cell_type": "code",
   "execution_count": null,
   "metadata": {},
   "outputs": [],
   "source": [
    "# Plot the actual returns versus the strategy returns\n",
    "(1 + predictions_df[['rbfSVC Strategy Returns','polySVC Strategy Returns','Actual Returns']]).cumprod().plot(title=\"SVC Strategy Returns vs. Actual Returns with Support Vecotr Classifier model\")\n"
   ]
  },
  {
   "cell_type": "markdown",
   "metadata": {},
   "source": [
    "### Backtest the model 1: SVC to evaluate its performance."
   ]
  },
  {
   "cell_type": "code",
   "execution_count": null,
   "metadata": {},
   "outputs": [],
   "source": [
    "# Initial Capital Investment\n",
    "initial_capital = float(1000)\n",
    "\n",
    "# Share size of each trade\n",
    "share_size = 50\n",
    "\n",
    "#select timeframe of Backtesting\n",
    "start = '2019-05-01'\n",
    "end = '2020-02-01'\n",
    "signals_df = signals_df.loc[start:end,:].copy()"
   ]
  },
  {
   "cell_type": "code",
   "execution_count": null,
   "metadata": {},
   "outputs": [],
   "source": [
    "# Buy a 50 share position when the signal is 1\n",
    "# Sell a 50 share position when the signal is 0\n",
    "signals_df['Position'] = share_size * predictions_df['SVC Predicted']\n",
    "# Determine the points in time where a 500 share position is bought or sold\n",
    "signals_df['Entry/Exit Position'] = signals_df['Position'].diff()\n",
    "# Multiply the close price by the number of shares held, or the Position\n",
    "signals_df['Portfolio Holdings'] = signals_df['Close'] * signals_df['Position']\n",
    "# Subtract the amount of either the cost or proceeds of the trade from the initial capital invested\n",
    "signals_df['Portfolio Cash'] = initial_capital - (signals_df['Close'] * signals_df['Entry/Exit Position']).cumsum()\n",
    "# Calculate the total portfolio value by adding the portfolio cash to the portfolio holdings (or investments)\n",
    "signals_df['Portfolio Total'] = signals_df['Portfolio Cash'] + signals_df['Portfolio Holdings']\n",
    "# Calculate the portfolio daily returns\n",
    "signals_df['Portfolio Daily Returns'] = signals_df['Portfolio Total'].pct_change()\n",
    "# Calculate the portfolio cumulative returns\n",
    "signals_df['Portfolio Cumulative Returns'] = (1 + signals_df['Portfolio Daily Returns']).cumprod() - 1\n",
    "signals_df.tail(10)"
   ]
  },
  {
   "cell_type": "code",
   "execution_count": null,
   "metadata": {},
   "outputs": [],
   "source": [
    "# Visualize exit position relative to total portfolio value\n",
    "exit = signals_df[signals_df['Entry/Exit'] == -1.0]['Portfolio Total'].hvplot.scatter(\n",
    "    color='yellow',\n",
    "    marker='v',\n",
    "    legend=False,\n",
    "    ylabel='Total Portfolio Value',\n",
    "    width=1000,\n",
    "    height=400\n",
    ")\n",
    "\n",
    "# Visualize entry position relative to total portfolio value\n",
    "entry = signals_df[signals_df['Entry/Exit'] == 1.0]['Portfolio Total'].hvplot.scatter(\n",
    "    color='purple',\n",
    "    marker='^',\n",
    "    ylabel='Total Portfolio Value',\n",
    "    width=1000,\n",
    "    height=400\n",
    ")\n",
    "\n",
    "# Visualize the value of the total portfolio\n",
    "total_portfolio_value = signals_df[['Portfolio Total']].hvplot(\n",
    "    line_color='lightgray',\n",
    "    ylabel='Total Portfolio Value',\n",
    "    xlabel='Date',\n",
    "    width=1000,\n",
    "    height=400\n",
    ")\n",
    "\n",
    "# Overlay the plots\n",
    "portfolio_entry_exit_plot = total_portfolio_value * entry * exit\n",
    "portfolio_entry_exit_plot.opts(\n",
    "    title=\"BTC Algorithm with SVC Preditions- Total Portfolio Value\",\n",
    "    yformatter='%.0f'\n",
    ")"
   ]
  },
  {
   "cell_type": "markdown",
   "metadata": {},
   "source": [
    "## Model #2: Random Forest Classifier from sklearn library"
   ]
  },
  {
   "cell_type": "code",
   "execution_count": null,
   "metadata": {},
   "outputs": [],
   "source": [
    "# Import a new classifier from SKLearn\n",
    "from sklearn.tree import RandomForestClassifier\n",
    "\n",
    "# Initiate the model instance\n",
    "RFC = RandomForestClassifier(max_depth=3, random_state=1)\n",
    "\n",
    "# Fit the model using the training data\n",
    "model = RFC.fit(X_train, y_train)\n",
    "\n",
    "# Use the testing dataset to generate the predictions for the new model\n",
    "forest_pred = RFC.predict(X_test)\n",
    "\n",
    "# Review the model's predicted values\n",
    "forest_pred[:10]"
   ]
  },
  {
   "cell_type": "markdown",
   "metadata": {},
   "source": [
    "### Evaluation Metrics"
   ]
  },
  {
   "cell_type": "code",
   "execution_count": null,
   "metadata": {},
   "outputs": [],
   "source": [
    "# Use a classification report to evaluate the model using the predictions and testing data\n",
    "forest_pred_report = classification_report(y_test, forest_pred)\n",
    "\n",
    "# Print the classification report\n",
    "print(forest_pred_report)\n"
   ]
  },
  {
   "cell_type": "code",
   "execution_count": null,
   "metadata": {},
   "outputs": [],
   "source": [
    "# Calculate R_Square and Adjusted R Square\n",
    "# The closer R2 and R2_adj are to 1 the better the model fit\n",
    "R2 = r2_score(y_test, forest_pred)\n",
    "#n is the sample size and p is the number of independent variables\n",
    "R2_adj = 1-(1-R2)*((len(y_test))-1)/((len(y_test))-1-1)\n",
    "print(\"The R squared is\", R2)\n",
    "print (\"The R squared adjusted is\", R2_adj)"
   ]
  },
  {
   "cell_type": "code",
   "execution_count": null,
   "metadata": {},
   "outputs": [],
   "source": [
    "# Calculate mean squared error and sqr rt of mean squared error\n",
    "# The closer MSE & srMSE are to 0 the better the model fit\n",
    "mse = (mean_squared_error(y_test, forest_pred))\n",
    "sqr_mse = (math.sqrt(mean_squared_error(y_test, forest_pred)))\n",
    "print(f\"The mean square error is\", mse)\n",
    "print(f\"The square root of the mse is\", sqr_mse)"
   ]
  },
  {
   "cell_type": "code",
   "execution_count": null,
   "metadata": {},
   "outputs": [],
   "source": [
    "# Add RVR model predictions to predicitons dataframe\n",
    "predictions_df['RFC Predictions'] = forest_pred\n",
    "predictions_df['Actual Returns'] = X['Actual Returns']\n",
    "predictions_df['RFC Strategy Returns'] = predictions_df['Actual Returns'] * predictions_df['RFC Predictions']\n",
    "\n",
    "# Review the DataFrame\n",
    "predictions_df"
   ]
  },
  {
   "cell_type": "code",
   "execution_count": null,
   "metadata": {},
   "outputs": [],
   "source": [
    "(1 + predictions_df[['RFC Strategy Returns']]).cumprod().sum()"
   ]
  },
  {
   "cell_type": "code",
   "execution_count": null,
   "metadata": {},
   "outputs": [],
   "source": [
    "(1 + predictions_df[['Actual Returns']]).cumprod().sum()"
   ]
  },
  {
   "cell_type": "code",
   "execution_count": null,
   "metadata": {},
   "outputs": [],
   "source": [
    "# Plot the actual returns versus the strategy returns\n",
    "(1 + predictions_df[['RFC Strategy Returns','Actual Returns']]).cumprod().plot(title=\"RFC Strategy Returns vs. Actual with Random Forest Classifier model, 2021-2022\")"
   ]
  },
  {
   "cell_type": "markdown",
   "metadata": {},
   "source": [
    "### Backtest the model 2: RVC to evaluate its performance. "
   ]
  },
  {
   "cell_type": "code",
   "execution_count": null,
   "metadata": {},
   "outputs": [],
   "source": [
    "# Initial Capital Investment\n",
    "initial_capital = float(1000)\n",
    "\n",
    "# Share size of each trade\n",
    "share_size = 50\n",
    "\n",
    "#select timeframe of Backtesting\n",
    "start = '2019-05-01'\n",
    "end = '2020-02-01'\n",
    "signals_df = signals_df.loc[start:end,:].copy()"
   ]
  },
  {
   "cell_type": "code",
   "execution_count": null,
   "metadata": {},
   "outputs": [],
   "source": [
    "# Buy a 50 share position when the signal is 1\n",
    "# Sell a 50 share position when the signal is 0\n",
    "signals_df['Position'] = share_size * predictions_df['RFC Predictions']\n",
    "# Determine the points in time where a 500 share position is bought or sold\n",
    "signals_df['Entry/Exit Position'] = signals_df['Position'].diff()\n",
    "# Multiply the close price by the number of shares held, or the Position\n",
    "signals_df['Portfolio Holdings'] = signals_df['Close'] * signals_df['Position']\n",
    "# Subtract the amount of either the cost or proceeds of the trade from the initial capital invested\n",
    "signals_df['Portfolio Cash'] = initial_capital - (signals_df['Close'] * signals_df['Entry/Exit Position']).cumsum()\n",
    "# Calculate the total portfolio value by adding the portfolio cash to the portfolio holdings (or investments)\n",
    "signals_df['Portfolio Total'] = signals_df['Portfolio Cash'] + signals_df['Portfolio Holdings']\n",
    "# Calculate the portfolio daily returns\n",
    "signals_df['Portfolio Daily Returns'] = signals_df['Portfolio Total'].pct_change()\n",
    "# Calculate the portfolio cumulative returns\n",
    "signals_df['Portfolio Cumulative Returns'] = (1 + signals_df['Portfolio Daily Returns']).cumprod() - 1\n",
    "signals_df.tail(10)"
   ]
  },
  {
   "cell_type": "code",
   "execution_count": null,
   "metadata": {},
   "outputs": [],
   "source": [
    "# Visualize exit position relative to total portfolio value\n",
    "exit = signals_df[signals_df['Entry/Exit'] == -1.0]['Portfolio Total'].hvplot.scatter(\n",
    "    color='yellow',\n",
    "    marker='v',\n",
    "    legend=False,\n",
    "    ylabel='Total Portfolio Value',\n",
    "    width=1000,\n",
    "    height=400\n",
    ")\n",
    "\n",
    "# Visualize entry position relative to total portfolio value\n",
    "entry = signals_df[signals_df['Entry/Exit'] == 1.0]['Portfolio Total'].hvplot.scatter(\n",
    "    color='purple',\n",
    "    marker='^',\n",
    "    ylabel='Total Portfolio Value',\n",
    "    width=1000,\n",
    "    height=400\n",
    ")\n",
    "\n",
    "# Visualize the value of the total portfolio\n",
    "total_portfolio_value = signals_df[['Portfolio Total']].hvplot(\n",
    "    line_color='lightgray',\n",
    "    ylabel='Total Portfolio Value',\n",
    "    xlabel='Date',\n",
    "    width=1000,\n",
    "    height=400\n",
    ")\n",
    "\n",
    "# Overlay the plots\n",
    "portfolio_entry_exit_plot = total_portfolio_value * entry * exit\n",
    "portfolio_entry_exit_plot.opts(\n",
    "    title=\"BTC Algorithm with SVC Preditions- Total Portfolio Value\",\n",
    "    yformatter='%.0f'\n",
    ")"
   ]
  },
  {
   "cell_type": "markdown",
   "metadata": {},
   "source": [
    "## Model #3: KNearest Neighbors Classifier (kNN) from sklearn library"
   ]
  },
  {
   "cell_type": "code",
   "execution_count": null,
   "metadata": {},
   "outputs": [],
   "source": [
    "from sklearn.neighbors import KNeighborsClassifier"
   ]
  },
  {
   "cell_type": "code",
   "execution_count": null,
   "metadata": {},
   "outputs": [],
   "source": [
    "kNN = KNeighborsClassifier(n_neighbors = 3)\n",
    "kNN = kNN.fit(X_train_scaled, y_train)\n",
    "kNN_pred = kNN.predict(X_test_scaled)\n"
   ]
  },
  {
   "cell_type": "markdown",
   "metadata": {},
   "source": [
    "### Evaluation Metrics"
   ]
  },
  {
   "cell_type": "code",
   "execution_count": null,
   "metadata": {},
   "outputs": [],
   "source": [
    "# Use a classification report to evaluate the model using the predictions and testing data\n",
    "kNN_pred_report = classification_report(y_test, kNN_pred)\n",
    "\n",
    "# Print the classification report\n",
    "print(kNN_pred_report)\n"
   ]
  },
  {
   "cell_type": "code",
   "execution_count": null,
   "metadata": {},
   "outputs": [],
   "source": [
    "# Calculate R_Square and Adjusted R Square\n",
    "# The closer R2 and R2_adj are to 1 the better the model fit\n",
    "R2 = r2_score(y_test, kNN_pred)\n",
    "#n is the sample size and p is the number of independent variables\n",
    "R2_adj = 1-(1-R2)*((len(y_test))-1)/((len(y_test))-1-1)\n",
    "print(\"The R squared is\", R2)\n",
    "print (\"The R squared adjusted is\", R2_adj)"
   ]
  },
  {
   "cell_type": "code",
   "execution_count": null,
   "metadata": {},
   "outputs": [],
   "source": [
    "# Calculate mean squared error and sqr rt of mean squared error\n",
    "# The closer MSE & srMSE are to 0 the better the model fit\n",
    "mse = (mean_squared_error(y_test, kNN_pred))\n",
    "sqr_mse = (math.sqrt(mean_squared_error(y_test, kNN_pred)))\n",
    "print(f\"The mean square error is\", mse)\n",
    "print(f\"The square root of the mse is\", sqr_mse)"
   ]
  },
  {
   "cell_type": "code",
   "execution_count": null,
   "metadata": {},
   "outputs": [],
   "source": [
    "\n",
    "# Add the kNN model predictions to the DataFrame\n",
    "predictions_df['kNN Predictions'] = kNN_pred\n",
    "predictions_df['Actual Returns'] = X['Actual Returns']\n",
    "# Add the strategy returns to the DataFrame\n",
    "predictions_df['kNN Strategy Returns'] = predictions_df['Actual Returns'] * predictions_df['kNN Predictions']\n"
   ]
  },
  {
   "cell_type": "code",
   "execution_count": null,
   "metadata": {},
   "outputs": [],
   "source": [
    "# Plot the actual returns versus the strategy returns\n",
    "(1 + kNN_predictions_df[['kNN Strategy Returns','Actual Returns']]).cumprod().plot(title=\"kNN Strategy Returns vs. Actual with kNearest Neighbor Classifier model, 2021-2022\")"
   ]
  },
  {
   "cell_type": "markdown",
   "metadata": {},
   "source": [
    "### Backtest the model 3: kNN to evaluate its performance. "
   ]
  },
  {
   "cell_type": "code",
   "execution_count": null,
   "metadata": {},
   "outputs": [],
   "source": [
    "# Initial Capital Investment\n",
    "initial_capital = float(1000)\n",
    "\n",
    "# Share size of each trade\n",
    "share_size = 50\n",
    "\n",
    "#select timeframe of Backtesting\n",
    "start = '2019-05-01'\n",
    "end = '2020-02-01'\n",
    "back_df = signals_df.loc[start:end,:].copy()"
   ]
  },
  {
   "cell_type": "code",
   "execution_count": null,
   "metadata": {},
   "outputs": [],
   "source": [
    "# Buy a 50 share position when the signal is 1\n",
    "# Sell a 50 share position when the signal is 0\n",
    "signals_df['Position'] = share_size * predictions_df['kNN Predictions']\n",
    "# Determine the points in time where a 500 share position is bought or sold\n",
    "signals_df['Entry/Exit Position'] = signals_df['Position'].diff()\n",
    "# Multiply the close price by the number of shares held, or the Position\n",
    "signals_df['Portfolio Holdings'] = signals_df['Close'] * signals_df['Position']\n",
    "# Subtract the amount of either the cost or proceeds of the trade from the initial capital invested\n",
    "signals_df['Portfolio Cash'] = initial_capital - (signals_df['Close'] * signals_df['Entry/Exit Position']).cumsum()\n",
    "# Calculate the total portfolio value by adding the portfolio cash to the portfolio holdings (or investments)\n",
    "signals_df['Portfolio Total'] = signals_df['Portfolio Cash'] + signals_df['Portfolio Holdings']\n",
    "# Calculate the portfolio daily returns\n",
    "signals_df['Portfolio Daily Returns'] = signals_df['Portfolio Total'].pct_change()\n",
    "# Calculate the portfolio cumulative returns\n",
    "signals_df['Portfolio Cumulative Returns'] = (1 + signals_df['Portfolio Daily Returns']).cumprod() - 1\n",
    "signals_df.tail(10)"
   ]
  },
  {
   "cell_type": "code",
   "execution_count": null,
   "metadata": {},
   "outputs": [],
   "source": [
    "# Visualize exit position relative to total portfolio value\n",
    "exit = signals_df[signals_df['Entry/Exit'] == -1.0]['Portfolio Total'].hvplot.scatter(\n",
    "    color='yellow',\n",
    "    marker='v',\n",
    "    legend=False,\n",
    "    ylabel='Total Portfolio Value',\n",
    "    width=1000,\n",
    "    height=400\n",
    ")\n",
    "\n",
    "# Visualize entry position relative to total portfolio value\n",
    "entry = signals_df[signals_df['Entry/Exit'] == 1.0]['Portfolio Total'].hvplot.scatter(\n",
    "    color='purple',\n",
    "    marker='^',\n",
    "    ylabel='Total Portfolio Value',\n",
    "    width=1000,\n",
    "    height=400\n",
    ")\n",
    "\n",
    "# Visualize the value of the total portfolio\n",
    "total_portfolio_value = signals_df[['Portfolio Total']].hvplot(\n",
    "    line_color='lightgray',\n",
    "    ylabel='Total Portfolio Value',\n",
    "    xlabel='Date',\n",
    "    width=1000,\n",
    "    height=400\n",
    ")\n",
    "\n",
    "# Overlay the plots\n",
    "portfolio_entry_exit_plot = total_portfolio_value * entry * exit\n",
    "portfolio_entry_exit_plot.opts(\n",
    "    title=\"BTC Algorithm with kNN Preditions- Total Portfolio Value\",\n",
    "    yformatter='%.0f'\n",
    ")"
   ]
  }
 ],
 "metadata": {
  "kernelspec": {
   "display_name": "dev",
   "language": "python",
   "name": "dev"
  },
  "language_info": {
   "codemirror_mode": {
    "name": "ipython",
    "version": 3
   },
   "file_extension": ".py",
   "mimetype": "text/x-python",
   "name": "python",
   "nbconvert_exporter": "python",
   "pygments_lexer": "ipython3",
   "version": "3.7.13"
  }
 },
 "nbformat": 4,
 "nbformat_minor": 4
}

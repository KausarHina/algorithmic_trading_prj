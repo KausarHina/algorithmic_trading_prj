{
 "cells": [
  {
   "cell_type": "markdown",
   "id": "f724a52b-33bb-466f-a2df-c95305481bcf",
   "metadata": {},
   "source": [
    "# Code to clean data from Bitfinex, raw data csv downloaded from CryptoDataDownload.com"
   ]
  },
  {
   "cell_type": "code",
   "execution_count": null,
   "id": "c6034403-5e1e-4638-9635-1182d4894083",
   "metadata": {},
   "outputs": [],
   "source": [
    "# Import\n",
    "import pandas as pd\n",
    "from pathlib import Path"
   ]
  },
  {
   "cell_type": "code",
   "execution_count": null,
   "id": "302cdd4a-deb5-460a-b782-fcdebe8cba26",
   "metadata": {},
   "outputs": [],
   "source": [
    "## choose coin of interest: BTC,ETH,XRP,DOGE,ADA\n",
    "# choose pair of interest: USD, USDT\n",
    "coin = 'BTC'\n",
    "pair = 'USD'\n",
    "\n",
    "# choose exchange of interest Bitfinex\n",
    "exchange = 'Bitfinex'\n",
    "\n",
    "# choose data interval of interest 1h, 1d\n",
    "time = '1h'\n",
    "\n",
    "# get saved histoical csv data from Data folder, which was downloaded from cryptoDataOnline.com\n",
    "df = pd.read_csv(Path(f\"./Data/RawData/{exchange}/{pair}/{exchange}_{coin}_{time}.csv\"), index_col= \"Datetime\", parse_dates= True, infer_datetime_format = True)\n",
    "display (df.head())"
   ]
  },
  {
   "cell_type": "code",
   "execution_count": null,
   "id": "ad572894-4a05-44ac-9761-b77372a878f9",
   "metadata": {},
   "outputs": [],
   "source": [
    "# reformat the dataframe to include OHLCV data for years 2021-2022\n",
    "df = df.reset_index()\n",
    "df.rename(columns = {\"level_0\":\"Unix\", \"level_1\": \"Datetime\", \"level_2\": \"Symbol_Pair\",\n",
    "                        \"level_3\": \"Open\", \"level_4\": \"High\", \"level_5\": \"Low\", \"level_6\": \"Close\",\n",
    "                        \"level_7\": \"Volume_USD\", \"https://www.CryptoDataDownload.com\": f\"Volume_in_{coin}\"},\n",
    "              inplace = True)\n",
    "df = df.drop([0,1], axis=0)\n",
    "df = df.drop([\"Unix\"], axis=1)\n",
    "df = df.set_index(\"Datetime\")"
   ]
  },
  {
   "cell_type": "code",
   "execution_count": null,
   "id": "ea95253f-860d-4973-872f-502d8c6b6029",
   "metadata": {},
   "outputs": [],
   "source": [
    "df.index = pd.to_datetime(df.index)\n",
    "df.insert(loc=0, column = \"Exchange\", value= f\"{exchange}\") "
   ]
  },
  {
   "cell_type": "code",
   "execution_count": null,
   "id": "e449afda-1124-4250-87ff-ab658d2cab53",
   "metadata": {},
   "outputs": [],
   "source": [
    "display(df.head(5))\n",
    "df.tail()"
   ]
  },
  {
   "cell_type": "code",
   "execution_count": null,
   "id": "cb0e1e0f-314a-46d7-8929-13384f4ab8b3",
   "metadata": {},
   "outputs": [],
   "source": [
    "# check data types\n",
    "df.info()"
   ]
  },
  {
   "cell_type": "code",
   "execution_count": null,
   "id": "b0d3abe5-aa49-4bc8-96d3-9c754f7d5eec",
   "metadata": {},
   "outputs": [],
   "source": [
    "# change data type to string and float\n",
    "df = df.astype({'Symbol_Pair': str})\n",
    "columns = ['Open', 'High', 'Low', 'Close', 'Volume_USD', 'Volume_in_BTC']\n",
    "for c in columns:\n",
    "    df = df.astype({c: float})\n"
   ]
  },
  {
   "cell_type": "code",
   "execution_count": null,
   "id": "9f80398f-6125-444b-a404-3340f4931490",
   "metadata": {},
   "outputs": [],
   "source": [
    "df.info()"
   ]
  },
  {
   "cell_type": "code",
   "execution_count": null,
   "id": "3226a6e1-11cb-4ed1-bb99-e466d50c530f",
   "metadata": {},
   "outputs": [],
   "source": [
    "df.isna().sum().sum()"
   ]
  },
  {
   "cell_type": "code",
   "execution_count": null,
   "id": "c036f91e-b4b1-4f4e-931f-cfe026b3a68d",
   "metadata": {},
   "outputs": [],
   "source": [
    "df_export = df.copy()\n",
    "df_export.to_csv(f'./FormattedData/{exchange}/{pair}/{exchange}_{coin}_{time}.csv')"
   ]
  },
  {
   "cell_type": "code",
   "execution_count": null,
   "id": "e99c4d9d-d9ed-4291-9449-c9b7d5cfa53d",
   "metadata": {},
   "outputs": [],
   "source": []
  }
 ],
 "metadata": {
  "kernelspec": {
   "display_name": "dev",
   "language": "python",
   "name": "dev"
  },
  "language_info": {
   "codemirror_mode": {
    "name": "ipython",
    "version": 3
   },
   "file_extension": ".py",
   "mimetype": "text/x-python",
   "name": "python",
   "nbconvert_exporter": "python",
   "pygments_lexer": "ipython3",
   "version": "3.7.13"
  }
 },
 "nbformat": 4,
 "nbformat_minor": 5
}

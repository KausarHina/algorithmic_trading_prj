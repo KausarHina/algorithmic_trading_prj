{
 "cells": [
  {
   "cell_type": "markdown",
   "id": "6768a9cb-26a4-436d-9a3a-f63dd88b154d",
   "metadata": {},
   "source": [
    "# Statsforecast Models"
   ]
  },
  {
   "cell_type": "code",
   "execution_count": null,
   "id": "c6034403-5e1e-4638-9635-1182d4894083",
   "metadata": {},
   "outputs": [],
   "source": [
    "# Import\n",
    "import pandas as pd\n",
    "import numpy as np\n",
    "import hvplot.pandas\n",
    "from pathlib import Path\n",
    "from finta import TA\n",
    "from statsforecast import StatsForecast\n",
    "from statsforecast.models import (\n",
    "    AutoARIMA,\n",
    "    HoltWinters,\n",
    "    CrostonClassic as Croston, \n",
    "    HistoricAverage,\n",
    "    DynamicOptimizedTheta as DOT,\n",
    "    SeasonalNaive\n",
    ")\n",
    "from datasetsforecast.losses import mse, mae, rmse\n",
    "%matplotlib inline"
   ]
  },
  {
   "cell_type": "markdown",
   "id": "7e11682e-3c32-4378-8024-e3a11cffb1e5",
   "metadata": {},
   "source": [
    "### Set Parameters & Import the OHLCV dataset into a Pandas DataFrame."
   ]
  },
  {
   "cell_type": "code",
   "execution_count": null,
   "id": "302cdd4a-deb5-460a-b782-fcdebe8cba26",
   "metadata": {},
   "outputs": [],
   "source": [
    "# choose coin of interest: BTC,ETH,XRP,DOGE,ADA\n",
    "# choose pair of interest: USD, USDT\n",
    "coin = 'BTC'\n",
    "pair = 'USD'\n",
    "\n",
    "# choose exchange of interest Bitfinex, Binance, Coinbase\n",
    "exchange = 'Bitfinex'\n",
    "\n",
    "# choose data interval of interest 1h, 1d\n",
    "time = '1h'\n",
    "\n",
    "# get saved histoical csv data from Data folder, which was downloaded from cryptoDataOnline.com\n",
    "df = pd.read_csv(Path(f\"./Data/Formatted_Data/{exchange}/{pair}/{exchange}_{coin}_{time}.csv\"), index_col= \"Datetime\", parse_dates= True, infer_datetime_format = True)\n",
    "display (df.head())"
   ]
  },
  {
   "cell_type": "code",
   "execution_count": null,
   "id": "5d9939a4-713b-4502-b8cd-ab239aff6e49",
   "metadata": {},
   "outputs": [],
   "source": [
    "df = df.sort_index(ascending=True)"
   ]
  },
  {
   "cell_type": "code",
   "execution_count": null,
   "id": "f62d0b02-85c0-4c54-ab0f-1a05793e15ea",
   "metadata": {},
   "outputs": [],
   "source": [
    "df['Close'].hvplot()"
   ]
  },
  {
   "cell_type": "markdown",
   "id": "e6585cde-0acd-4dec-ab1b-96b73147cb01",
   "metadata": {},
   "source": [
    "## Format Dataframe for Prophet configuration"
   ]
  },
  {
   "cell_type": "code",
   "execution_count": null,
   "id": "f04f010e-d761-4fd8-adc5-1b8542fc5e6f",
   "metadata": {},
   "outputs": [],
   "source": [
    "# Calculate return:\n",
    "df[\"Return\"] = df[\"Close\"].pct_change()\n",
    "\n",
    "slice_df = df.copy()\n",
    "\n",
    "# Slice dataframe for a training/testing timeframe\n",
    "start = '2019-01-01 00:00:00'\n",
    "end = '2020-01-10 00:00:00'\n",
    "\n",
    "slice_df= slice_df.loc[start:end,:]\n",
    "slice_df.head(5)"
   ]
  },
  {
   "cell_type": "code",
   "execution_count": null,
   "id": "e449afda-1124-4250-87ff-ab658d2cab53",
   "metadata": {},
   "outputs": [],
   "source": [
    "# reset the index, moving datetime to a column, and copy dataframe to Y_df variable name\n",
    "Y_df = slice_df.reset_index()\n",
    "\n",
    "# format dataframe to drop all columns except Datetime, Symbol Pair, and Return\n",
    "# when using tether pairs you must change Volume_USD to Volume_USDT\n",
    "Y_df = Y_df.drop(columns=['Exchange','Open', 'High',\n",
    "                          'Low', 'Close','Volume_USD',f'Volume_in_{coin}']) \n",
    "\n",
    "# rename columns to fit with Prophet formatting\n",
    "# y = Y_df['Return']\n",
    "Y_df = Y_df.rename({'Symbol_Pair': 'unique_id', 'Return': 'y', 'Datetime': 'ds'}, axis=1)\n",
    "\n",
    "#drop all null values\n",
    "Y_df = Y_df.dropna()\n",
    "Y_df"
   ]
  },
  {
   "cell_type": "code",
   "execution_count": null,
   "id": "1f346a6e-1eb1-4da0-9c2c-8ad45d5ed80c",
   "metadata": {},
   "outputs": [],
   "source": [
    "#Plot of the Returns from the sliced Datetime\n",
    "StatsForecast.plot(Y_df)"
   ]
  },
  {
   "cell_type": "markdown",
   "id": "7311dcd3-3d4e-4c29-bff2-4eebb94e977a",
   "metadata": {},
   "source": [
    "## Statsforecast model instantiation and predictions"
   ]
  },
  {
   "cell_type": "code",
   "execution_count": null,
   "id": "9f80398f-6125-444b-a404-3340f4931490",
   "metadata": {},
   "outputs": [],
   "source": [
    "# Create a list of models and instantiation parameters\n",
    "models = [\n",
    "    AutoARIMA(season_length=24),\n",
    "    HoltWinters(),\n",
    "    Croston(),\n",
    "    SeasonalNaive(season_length=24),\n",
    "    HistoricAverage(),\n",
    "    DOT(season_length=24)\n",
    "]"
   ]
  },
  {
   "cell_type": "code",
   "execution_count": null,
   "id": "5244c999-c641-4d98-9d57-2e2f5b251898",
   "metadata": {},
   "outputs": [],
   "source": [
    "# Instantiate StatsForecast class as sf\n",
    "sf = StatsForecast(\n",
    "    df=Y_df, \n",
    "    models=models,\n",
    "    freq='H', \n",
    "    n_jobs=-1,\n",
    "    fallback_model = SeasonalNaive(season_length=7)\n",
    ")"
   ]
  },
  {
   "cell_type": "code",
   "execution_count": null,
   "id": "f3ee7fd0-c7ee-47c1-bf37-da949f3ae4cd",
   "metadata": {},
   "outputs": [],
   "source": [
    "forecasts_df = sf.forecast(h=48, level=[90])\n",
    "forecasts_df.head()"
   ]
  },
  {
   "cell_type": "code",
   "execution_count": null,
   "id": "ea85ec85-b185-431a-bd5e-eccbe1d03884",
   "metadata": {},
   "outputs": [],
   "source": [
    "sf.plot(Y_df,forecasts_df)"
   ]
  },
  {
   "cell_type": "code",
   "execution_count": null,
   "id": "31e6d236-7762-471c-9631-368566df2c86",
   "metadata": {},
   "outputs": [],
   "source": [
    "# Plot to unique_ids and some selected models\n",
    "# when using tether pairs must change unique_id=[\"BTCUSDT\"]\n",
    "sf.plot(Y_df, forecasts_df, models=[\"SeasonalNaive\",\"DynamicOptimizedTheta\"], unique_ids=[\"BTC/USD\"], level=[90])"
   ]
  },
  {
   "cell_type": "code",
   "execution_count": null,
   "id": "20652a4b-f96b-40c5-9571-be46d4b9784b",
   "metadata": {},
   "outputs": [],
   "source": [
    "# Explore other models \n",
    "# when using tether pairs must change unique_id=[\"BTCUSDT\"]\n",
    "sf.plot(Y_df, forecasts_df, models=[\"AutoARIMA\"], unique_ids=[\"BTC/USD\"], level=[90])"
   ]
  },
  {
   "cell_type": "code",
   "execution_count": null,
   "id": "4838fbe0-5057-4570-a57a-578e82319cc5",
   "metadata": {},
   "outputs": [],
   "source": [
    "crossvaldation_df = sf.cross_validation(\n",
    "    df=Y_df,\n",
    "    h=24,\n",
    "    step_size=24,\n",
    "    n_windows=2\n",
    "  )"
   ]
  },
  {
   "cell_type": "code",
   "execution_count": null,
   "id": "3226a6e1-11cb-4ed1-bb99-e466d50c530f",
   "metadata": {},
   "outputs": [],
   "source": [
    "crossvaldation_df.tail()"
   ]
  },
  {
   "cell_type": "code",
   "execution_count": null,
   "id": "31792cc0-6a2a-460b-852c-39867ca9e6d8",
   "metadata": {},
   "outputs": [],
   "source": [
    "# Cross validation for evaluation statistics\n",
    "def evaluate_cross_validation(df, metric):\n",
    "    models = df.drop(columns=['ds', 'cutoff', 'y']).columns.tolist()\n",
    "    evals = []\n",
    "    for model in models:\n",
    "        eval_ = df.groupby(['unique_id', 'cutoff']).apply(lambda x: metric(x['y'].values, x[model].values)).to_frame() # Calculate loss for every unique_id, model and cutoff.\n",
    "        eval_.columns = [model]\n",
    "        evals.append(eval_)\n",
    "    evals = pd.concat(evals, axis=1)\n",
    "    evals = evals.groupby(['unique_id']).mean(numeric_only=True) # Averages the error metrics for all cutoffs for every combination of model and unique_id\n",
    "    evals['best_model'] = evals.idxmin(axis=1)\n",
    "    return evals"
   ]
  },
  {
   "cell_type": "code",
   "execution_count": null,
   "id": "d9a1b10f-cffd-4e25-9585-a1e7c12c1e36",
   "metadata": {},
   "outputs": [],
   "source": [
    "evaluation_df = evaluate_cross_validation(crossvaldation_df, rmse)\n",
    "\n",
    "print(\"Dataframe of crossvalidation results Root Mean Squared Error\")\n",
    "evaluation_df.head()"
   ]
  },
  {
   "cell_type": "code",
   "execution_count": null,
   "id": "9134c896-a3c8-4c92-8fca-30d26ebf649e",
   "metadata": {},
   "outputs": [],
   "source": [
    "summary_df = evaluation_df.groupby('best_model').size().sort_values().to_frame()\n",
    "\n",
    "summary_df.reset_index().columns = [\"Model\", \"Nr. of unique_ids\"]"
   ]
  },
  {
   "cell_type": "code",
   "execution_count": null,
   "id": "4c0fa6c7-ee53-468b-8f6b-3184b71691df",
   "metadata": {},
   "outputs": [],
   "source": [
    "seasonal_ids = evaluation_df.query('best_model == \"AutoARIMA\"').index\n",
    "\n",
    "sf.plot(Y_df,forecasts_df, unique_ids=seasonal_ids, models=[\"AutoARIMA\",\"DynamicOptimizedTheta\"])"
   ]
  },
  {
   "cell_type": "code",
   "execution_count": null,
   "id": "67f9756f-77bf-4d44-84bb-98994d162964",
   "metadata": {},
   "outputs": [],
   "source": [
    "forecasts_df.info()"
   ]
  },
  {
   "cell_type": "markdown",
   "id": "e186d3a3-a410-4309-beda-eec683eee1ed",
   "metadata": {},
   "source": [
    "# Evaluate Model Predictions"
   ]
  },
  {
   "cell_type": "code",
   "execution_count": null,
   "id": "a9a3b33f-7d40-4635-b0ae-e37f8f69960f",
   "metadata": {},
   "outputs": [],
   "source": [
    "#Create new DF and copy best model forecast results\n",
    "eval_df = eval_df.rename({'ds': 'Datetime', 'y': 'Predicted Returns'}, axis=1)\n",
    "eval_df = forecasts_df.set_index('Datetime').copy()\n",
    "\n",
    "# eval_df = forecasts_df[['ds','AutoARIMA','SeasonalNaive','DynamicOptimizedTheta']].copy()\n",
    "# eval_df['Actual Returns'] = df['Returns'].loc[\n",
    "\n",
    "\n",
    "eval_df.head()"
   ]
  },
  {
   "cell_type": "code",
   "execution_count": null,
   "id": "e398cf09-55b0-4c3c-9c3d-f965af86d06d",
   "metadata": {},
   "outputs": [],
   "source": [
    "backtest_df = pd.concat([pred_df, forecasts2_df], axis=1).loc['2022-12-27':'2023-01-04']\n",
    "backtest_df"
   ]
  },
  {
   "cell_type": "code",
   "execution_count": null,
   "id": "82fd09c6-b12e-4ed9-9d82-a48e0b8e4758",
   "metadata": {},
   "outputs": [],
   "source": [
    "backtest_df = backtest_df.drop('close', axis=1)\n",
    "backtest_df.dropna(inplace=True)"
   ]
  },
  {
   "cell_type": "code",
   "execution_count": null,
   "id": "54efc6f0-90cd-47e2-a184-bcd822cdc323",
   "metadata": {},
   "outputs": [],
   "source": [
    "backtest_df"
   ]
  },
  {
   "cell_type": "code",
   "execution_count": null,
   "id": "f6c0f56f-94f4-4ff2-99c1-1d256977df27",
   "metadata": {},
   "outputs": [],
   "source": [
    "backtest_df.hvplot()"
   ]
  },
  {
   "cell_type": "code",
   "execution_count": null,
   "id": "c2328b60-7406-4104-95d6-2c44d384b490",
   "metadata": {},
   "outputs": [],
   "source": [
    "y_test = backtest_df['Returns']\n",
    "pred = backtest_df['AutoARIMA']\n",
    "from sklearn.metrics import mean_squared_error\n",
    "import math\n",
    "print(\"The MSE of the y_test and model predicted value was:\")\n",
    "print(mean_squared_error(y_test, pred))\n",
    "print(\"The square-root of the MSE of the y_test and model predicted value was:\")\n",
    "print(math.sqrt(mean_squared_error(y_test, pred)))"
   ]
  },
  {
   "cell_type": "code",
   "execution_count": null,
   "id": "d7d4af76-1640-4e04-9e29-d638f93cfb99",
   "metadata": {},
   "outputs": [],
   "source": [
    "\n",
    "AA_Returns_Difference = (backtest_df['AutoARIMA'] - backtest_df['Returns']).sum().sum()\n",
    "SN_Returns_Difference = (backtest_df['SeasonalNaive'] - backtest_df['Returns']).sum().sum()\n",
    "DOT_Returns_Difference = (backtest_df['DynamicOptimizedTheta'] - backtest_df['Returns']).sum().sum()\n",
    "\n",
    "print(\"The sum of the differences for AutoARIMA is:\", AA_Returns_Difference)\n",
    "print(\"The sum of the differences for SeasonalNaive is:\", SN_Returns_Difference)\n",
    "print(\"The sum of the differences for DynamicOptimizedTheta is:\", DOT_Returns_Difference)"
   ]
  },
  {
   "cell_type": "code",
   "execution_count": null,
   "id": "baa59301-b624-4988-8a40-674ab828283c",
   "metadata": {},
   "outputs": [],
   "source": []
  }
 ],
 "metadata": {
  "kernelspec": {
   "display_name": "dev",
   "language": "python",
   "name": "dev"
  },
  "language_info": {
   "codemirror_mode": {
    "name": "ipython",
    "version": 3
   },
   "file_extension": ".py",
   "mimetype": "text/x-python",
   "name": "python",
   "nbconvert_exporter": "python",
   "pygments_lexer": "ipython3",
   "version": "3.7.13"
  }
 },
 "nbformat": 4,
 "nbformat_minor": 5
}

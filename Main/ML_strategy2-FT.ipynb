{
 "cells": [
  {
   "cell_type": "markdown",
   "metadata": {
    "tags": []
   },
   "source": [
    "# Trade Strategy 2 with Machine Learning\n",
    "\n",
    "\n",
    "## Outline:\n",
    "* Set parameters of interest & Import Data\n",
    "\n",
    "* Establish Trading Strategy with signals\n",
    "\n",
    "* Identify Training & Testing dataset, Scale data if necessary\n",
    "\n",
    "* Run model 1: Support Vector Classifier\n",
    "\n",
    "    * Evaluate Performance\n",
    "    * Backtest\n",
    "\n",
    "* Run model 2: Random Forest Classififier\n",
    "\n",
    "    * Evaluate Performance\n",
    "    * Backtest\n",
    "    \n",
    "* Run model 2: k Nearest Neighbor Classifier\n",
    "\n",
    "    * Evaluate Performance\n",
    "    * Backtest"
   ]
  },
  {
   "cell_type": "code",
   "execution_count": 5,
   "metadata": {},
   "outputs": [],
   "source": [
    "# Imports\n",
    "import pandas as pd\n",
    "import numpy as np\n",
    "from pathlib import Path\n",
    "import hvplot.pandas\n",
    "import matplotlib.pyplot as plt\n",
    "import talib as TA\n",
    "from sklearn import svm\n",
    "from sklearn.preprocessing import StandardScaler\n",
    "from pandas.tseries.offsets import DateOffset\n",
    "from sklearn.metrics import classification_report"
   ]
  },
  {
   "cell_type": "markdown",
   "metadata": {},
   "source": [
    "### Set Parameters & Import the OHLCV dataset into a Pandas DataFrame."
   ]
  },
  {
   "cell_type": "code",
   "execution_count": 6,
   "metadata": {},
   "outputs": [
    {
     "data": {
      "text/html": [
       "<div>\n",
       "<style scoped>\n",
       "    .dataframe tbody tr th:only-of-type {\n",
       "        vertical-align: middle;\n",
       "    }\n",
       "\n",
       "    .dataframe tbody tr th {\n",
       "        vertical-align: top;\n",
       "    }\n",
       "\n",
       "    .dataframe thead th {\n",
       "        text-align: right;\n",
       "    }\n",
       "</style>\n",
       "<table border=\"1\" class=\"dataframe\">\n",
       "  <thead>\n",
       "    <tr style=\"text-align: right;\">\n",
       "      <th></th>\n",
       "      <th>Exchange</th>\n",
       "      <th>Symbol_Pair</th>\n",
       "      <th>Open</th>\n",
       "      <th>High</th>\n",
       "      <th>Low</th>\n",
       "      <th>Close</th>\n",
       "      <th>Volume_USD</th>\n",
       "      <th>Volume_in_BTC</th>\n",
       "    </tr>\n",
       "    <tr>\n",
       "      <th>Datetime</th>\n",
       "      <th></th>\n",
       "      <th></th>\n",
       "      <th></th>\n",
       "      <th></th>\n",
       "      <th></th>\n",
       "      <th></th>\n",
       "      <th></th>\n",
       "      <th></th>\n",
       "    </tr>\n",
       "  </thead>\n",
       "  <tbody>\n",
       "    <tr>\n",
       "      <th>2023-01-12 23:00:00</th>\n",
       "      <td>Bitfinex</td>\n",
       "      <td>BTC/USD</td>\n",
       "      <td>18913.0</td>\n",
       "      <td>18916.0</td>\n",
       "      <td>18856.0</td>\n",
       "      <td>18856.0</td>\n",
       "      <td>2.015120e+06</td>\n",
       "      <td>106.868894</td>\n",
       "    </tr>\n",
       "    <tr>\n",
       "      <th>2023-01-12 22:00:00</th>\n",
       "      <td>Bitfinex</td>\n",
       "      <td>BTC/USD</td>\n",
       "      <td>18834.0</td>\n",
       "      <td>18934.0</td>\n",
       "      <td>18785.0</td>\n",
       "      <td>18917.0</td>\n",
       "      <td>1.909037e+06</td>\n",
       "      <td>100.916485</td>\n",
       "    </tr>\n",
       "    <tr>\n",
       "      <th>2023-01-12 21:00:00</th>\n",
       "      <td>Bitfinex</td>\n",
       "      <td>BTC/USD</td>\n",
       "      <td>19064.0</td>\n",
       "      <td>19112.0</td>\n",
       "      <td>18775.0</td>\n",
       "      <td>18835.0</td>\n",
       "      <td>5.595288e+06</td>\n",
       "      <td>297.068657</td>\n",
       "    </tr>\n",
       "    <tr>\n",
       "      <th>2023-01-12 20:00:00</th>\n",
       "      <td>Bitfinex</td>\n",
       "      <td>BTC/USD</td>\n",
       "      <td>18889.0</td>\n",
       "      <td>19089.0</td>\n",
       "      <td>18828.0</td>\n",
       "      <td>19065.0</td>\n",
       "      <td>1.969036e+06</td>\n",
       "      <td>103.280162</td>\n",
       "    </tr>\n",
       "    <tr>\n",
       "      <th>2023-01-12 19:00:00</th>\n",
       "      <td>Bitfinex</td>\n",
       "      <td>BTC/USD</td>\n",
       "      <td>18803.0</td>\n",
       "      <td>19046.0</td>\n",
       "      <td>18771.0</td>\n",
       "      <td>18887.0</td>\n",
       "      <td>5.353192e+06</td>\n",
       "      <td>283.432631</td>\n",
       "    </tr>\n",
       "  </tbody>\n",
       "</table>\n",
       "</div>"
      ],
      "text/plain": [
       "                     Exchange Symbol_Pair     Open     High      Low    Close  \\\n",
       "Datetime                                                                        \n",
       "2023-01-12 23:00:00  Bitfinex     BTC/USD  18913.0  18916.0  18856.0  18856.0   \n",
       "2023-01-12 22:00:00  Bitfinex     BTC/USD  18834.0  18934.0  18785.0  18917.0   \n",
       "2023-01-12 21:00:00  Bitfinex     BTC/USD  19064.0  19112.0  18775.0  18835.0   \n",
       "2023-01-12 20:00:00  Bitfinex     BTC/USD  18889.0  19089.0  18828.0  19065.0   \n",
       "2023-01-12 19:00:00  Bitfinex     BTC/USD  18803.0  19046.0  18771.0  18887.0   \n",
       "\n",
       "                       Volume_USD  Volume_in_BTC  \n",
       "Datetime                                          \n",
       "2023-01-12 23:00:00  2.015120e+06     106.868894  \n",
       "2023-01-12 22:00:00  1.909037e+06     100.916485  \n",
       "2023-01-12 21:00:00  5.595288e+06     297.068657  \n",
       "2023-01-12 20:00:00  1.969036e+06     103.280162  \n",
       "2023-01-12 19:00:00  5.353192e+06     283.432631  "
      ]
     },
     "metadata": {},
     "output_type": "display_data"
    }
   ],
   "source": [
    "# choose coin of interest: BTC,ETH,XRP,DOGE,ADA\n",
    "# choose pair of interest: USD, USDT\n",
    "coin = 'BTC'\n",
    "pair = 'USD'\n",
    "\n",
    "# choose exchange of interest Bitfinex, Binance, Coinbase\n",
    "exchange = 'Bitfinex'\n",
    "\n",
    "# choose data interval of interest 1h, 1d\n",
    "time = '1h'\n",
    "\n",
    "# get saved histoical csv data from Data folder, which was downloaded from cryptoDataOnline.com\n",
    "df = pd.read_csv(Path(f\"./Data/{exchange}/{pair}/{exchange}_{coin}_{time}.csv\"), index_col= \"Datetime\", parse_dates= True, infer_datetime_format = True)\n",
    "display (df.head())\n"
   ]
  },
  {
   "cell_type": "code",
   "execution_count": 7,
   "metadata": {},
   "outputs": [
    {
     "data": {
      "text/html": [
       "<div>\n",
       "<style scoped>\n",
       "    .dataframe tbody tr th:only-of-type {\n",
       "        vertical-align: middle;\n",
       "    }\n",
       "\n",
       "    .dataframe tbody tr th {\n",
       "        vertical-align: top;\n",
       "    }\n",
       "\n",
       "    .dataframe thead th {\n",
       "        text-align: right;\n",
       "    }\n",
       "</style>\n",
       "<table border=\"1\" class=\"dataframe\">\n",
       "  <thead>\n",
       "    <tr style=\"text-align: right;\">\n",
       "      <th></th>\n",
       "      <th>Open</th>\n",
       "      <th>High</th>\n",
       "      <th>Low</th>\n",
       "      <th>Close</th>\n",
       "      <th>Volume</th>\n",
       "    </tr>\n",
       "    <tr>\n",
       "      <th>Datetime</th>\n",
       "      <th></th>\n",
       "      <th></th>\n",
       "      <th></th>\n",
       "      <th></th>\n",
       "      <th></th>\n",
       "    </tr>\n",
       "  </thead>\n",
       "  <tbody>\n",
       "    <tr>\n",
       "      <th>2023-01-12 23:00:00</th>\n",
       "      <td>18913.0</td>\n",
       "      <td>18916.0</td>\n",
       "      <td>18856.0</td>\n",
       "      <td>18856.0</td>\n",
       "      <td>106.868894</td>\n",
       "    </tr>\n",
       "    <tr>\n",
       "      <th>2023-01-12 22:00:00</th>\n",
       "      <td>18834.0</td>\n",
       "      <td>18934.0</td>\n",
       "      <td>18785.0</td>\n",
       "      <td>18917.0</td>\n",
       "      <td>100.916485</td>\n",
       "    </tr>\n",
       "    <tr>\n",
       "      <th>2023-01-12 21:00:00</th>\n",
       "      <td>19064.0</td>\n",
       "      <td>19112.0</td>\n",
       "      <td>18775.0</td>\n",
       "      <td>18835.0</td>\n",
       "      <td>297.068657</td>\n",
       "    </tr>\n",
       "    <tr>\n",
       "      <th>2023-01-12 20:00:00</th>\n",
       "      <td>18889.0</td>\n",
       "      <td>19089.0</td>\n",
       "      <td>18828.0</td>\n",
       "      <td>19065.0</td>\n",
       "      <td>103.280162</td>\n",
       "    </tr>\n",
       "    <tr>\n",
       "      <th>2023-01-12 19:00:00</th>\n",
       "      <td>18803.0</td>\n",
       "      <td>19046.0</td>\n",
       "      <td>18771.0</td>\n",
       "      <td>18887.0</td>\n",
       "      <td>283.432631</td>\n",
       "    </tr>\n",
       "  </tbody>\n",
       "</table>\n",
       "</div>"
      ],
      "text/plain": [
       "                        Open     High      Low    Close      Volume\n",
       "Datetime                                                           \n",
       "2023-01-12 23:00:00  18913.0  18916.0  18856.0  18856.0  106.868894\n",
       "2023-01-12 22:00:00  18834.0  18934.0  18785.0  18917.0  100.916485\n",
       "2023-01-12 21:00:00  19064.0  19112.0  18775.0  18835.0  297.068657\n",
       "2023-01-12 20:00:00  18889.0  19089.0  18828.0  19065.0  103.280162\n",
       "2023-01-12 19:00:00  18803.0  19046.0  18771.0  18887.0  283.432631"
      ]
     },
     "execution_count": 7,
     "metadata": {},
     "output_type": "execute_result"
    }
   ],
   "source": [
    "dataframe = df.drop(columns=['Exchange','Symbol_Pair','Volume_USD']).copy()\n",
    "dataframe = dataframe.rename(columns={'Volume_in_BTC': 'Volume'})\n",
    "dataframe.head()"
   ]
  },
  {
   "cell_type": "markdown",
   "metadata": {},
   "source": [
    "## Define trading strategy with entry and exit signals"
   ]
  },
  {
   "cell_type": "code",
   "execution_count": 9,
   "metadata": {},
   "outputs": [
    {
     "ename": "TypeError",
     "evalue": "ADX() takes at least 3 positional arguments (1 given)",
     "output_type": "error",
     "traceback": [
      "\u001b[0;31m---------------------------------------------------------------------------\u001b[0m",
      "\u001b[0;31mTypeError\u001b[0m                                 Traceback (most recent call last)",
      "\u001b[0;32m/tmp/ipykernel_17019/1222691683.py\u001b[0m in \u001b[0;36m<module>\u001b[0;34m\u001b[0m\n\u001b[1;32m     10\u001b[0m \u001b[0;34m\u001b[0m\u001b[0m\n\u001b[1;32m     11\u001b[0m \u001b[0;31m# ADX = Average Directional Movement Index (Momentum Indicator)\u001b[0m\u001b[0;34m\u001b[0m\u001b[0;34m\u001b[0m\u001b[0;34m\u001b[0m\u001b[0m\n\u001b[0;32m---> 12\u001b[0;31m \u001b[0mdataframe\u001b[0m\u001b[0;34m[\u001b[0m\u001b[0;34m'adx'\u001b[0m\u001b[0;34m]\u001b[0m \u001b[0;34m=\u001b[0m \u001b[0mTA\u001b[0m\u001b[0;34m.\u001b[0m\u001b[0mADX\u001b[0m\u001b[0;34m(\u001b[0m\u001b[0mdataframe\u001b[0m\u001b[0;34m,\u001b[0m \u001b[0mtimeperiod\u001b[0m\u001b[0;34m=\u001b[0m\u001b[0;36m10\u001b[0m\u001b[0;34m)\u001b[0m\u001b[0;34m\u001b[0m\u001b[0;34m\u001b[0m\u001b[0m\n\u001b[0m\u001b[1;32m     13\u001b[0m \u001b[0mdataframe\u001b[0m\u001b[0;34m[\u001b[0m\u001b[0;34m'slowadx'\u001b[0m\u001b[0;34m]\u001b[0m \u001b[0;34m=\u001b[0m \u001b[0mTA\u001b[0m\u001b[0;34m.\u001b[0m\u001b[0mADX\u001b[0m\u001b[0;34m(\u001b[0m\u001b[0mdataframe\u001b[0m\u001b[0;34m,\u001b[0m \u001b[0mtimeperiod\u001b[0m\u001b[0;34m=\u001b[0m\u001b[0;36m35\u001b[0m\u001b[0;34m)\u001b[0m\u001b[0;34m\u001b[0m\u001b[0;34m\u001b[0m\u001b[0m\n\u001b[1;32m     14\u001b[0m \u001b[0;34m\u001b[0m\u001b[0m\n",
      "\u001b[0;32m/opt/conda/envs/dev/lib/python3.7/site-packages/talib/__init__.py\u001b[0m in \u001b[0;36mwrapper\u001b[0;34m(*args, **kwargs)\u001b[0m\n\u001b[1;32m     25\u001b[0m \u001b[0;34m\u001b[0m\u001b[0m\n\u001b[1;32m     26\u001b[0m             \u001b[0;32mif\u001b[0m \u001b[0mindex\u001b[0m \u001b[0;32mis\u001b[0m \u001b[0;32mNone\u001b[0m\u001b[0;34m:\u001b[0m\u001b[0;34m\u001b[0m\u001b[0;34m\u001b[0m\u001b[0m\n\u001b[0;32m---> 27\u001b[0;31m                 \u001b[0;32mreturn\u001b[0m \u001b[0mfunc\u001b[0m\u001b[0;34m(\u001b[0m\u001b[0;34m*\u001b[0m\u001b[0margs\u001b[0m\u001b[0;34m,\u001b[0m \u001b[0;34m**\u001b[0m\u001b[0mkwargs\u001b[0m\u001b[0;34m)\u001b[0m\u001b[0;34m\u001b[0m\u001b[0;34m\u001b[0m\u001b[0m\n\u001b[0m\u001b[1;32m     28\u001b[0m \u001b[0;34m\u001b[0m\u001b[0m\n\u001b[1;32m     29\u001b[0m             \u001b[0;31m# Use Series' float64 values if pandas, else use values as passed\u001b[0m\u001b[0;34m\u001b[0m\u001b[0;34m\u001b[0m\u001b[0;34m\u001b[0m\u001b[0m\n",
      "\u001b[0;32mtalib/_func.pxi\u001b[0m in \u001b[0;36mtalib._ta_lib.ADX\u001b[0;34m()\u001b[0m\n",
      "\u001b[0;31mTypeError\u001b[0m: ADX() takes at least 3 positional arguments (1 given)"
     ]
    }
   ],
   "source": [
    "#Strategy 1\n",
    "minimal_roi = {\n",
    "        \"60\":  0.01,\n",
    "        \"30\":  0.03,\n",
    "        \"20\":  0.04,\n",
    "        \"0\":  0.05\n",
    "    }\n",
    "timeframe = '1h'\n",
    "\n",
    "\n",
    "# ADX = Average Directional Movement Index (Momentum Indicator)\n",
    "dataframe['adx'] = TA.ADX(dataframe, timeperiod=10)\n",
    "dataframe['slowadx'] = TA.ADX(dataframe, timeperiod=35)\n",
    "\n",
    "# Commodity Channel Index: values Oversold:<-100, Overbought:>100\n",
    "dataframe['cci'] = TA.CCI(dataframe)\n",
    "\n",
    "# Stoch\n",
    "stoch = TA.STOCH(dataframe, 5)\n",
    "dataframe['fastd'] = stoch['fastd']\n",
    "dataframe['fastk'] = stoch['fastk']\n",
    "dataframe['fastk-previous'] = dataframe.fastk.shift(1)\n",
    "dataframe['fastd-previous'] = dataframe.fastd.shift(1)\n",
    "\n",
    "# Slow Stoch\n",
    "slowstoch = TA.STOCH(dataframe, 50)\n",
    "dataframe['slowfastd'] = slowstoch['fastd']\n",
    "dataframe['slowfastk'] = slowstoch['fastk']\n",
    "dataframe['slowfastk-previous'] = dataframe.slowfastk.shift(1)\n",
    "dataframe['slowfastd-previous'] = dataframe.slowfastd.shift(1)\n",
    "\n",
    "# EMA - Exponential Moving Average\n",
    "dataframe['ema5'] = TA.EMA(dataframe, 5)\n",
    "        \n",
    "# get the rolling volume mean for the last hour (12x5)\n",
    "# Note: dataframe['volume'].mean() uses the whole dataframe in \n",
    "# backtesting hence will have lookahead, but would be fine for dry/live use\n",
    "dataframe['mean-volume'] = dataframe['Volume'].rolling(12).mean()\n",
    "\n",
    "# Review the DataFrame\n",
    "display(dataframe.head())\n",
    "display(dataframe.tail())"
   ]
  },
  {
   "cell_type": "code",
   "execution_count": null,
   "metadata": {},
   "outputs": [],
   "source": [
    "# Entry Trend\n",
    "dataframe['Signal'] = 0.0  #enter long trade signal =1, exit long trade signal = 0\n",
    "\n",
    "\n",
    "dataframe.loc[\n",
    "            (\n",
    "                (\n",
    "                    (dataframe['adx'] > 50) |\n",
    "                    (dataframe['slowadx'] > 26)\n",
    "                ) &\n",
    "                (dataframe['cci'] < -100) &\n",
    "                (\n",
    "                    (dataframe['fastk-previous'] < 20) &\n",
    "                    (dataframe['fastd-previous'] < 20)\n",
    "                ) &\n",
    "                (\n",
    "                    (dataframe['slowfastk-previous'] < 30) &\n",
    "                    (dataframe['slowfastd-previous'] < 30)\n",
    "                ) &\n",
    "                (dataframe['fastk-previous'] < dataframe['fastd-previous']) &\n",
    "                (dataframe['fastk'] > dataframe['fastd']) &\n",
    "                (dataframe['mean-volume'] > 0.75) &\n",
    "                (dataframe['close'] > 0.00000100)\n",
    "            ),\n",
    "            'Signal'] = 1\n",
    "\n",
    "#Exit Trend\n",
    "dataframe.loc[\n",
    "    (\n",
    "        (dataframe['slowadx'] < 25) &\n",
    "        ((dataframe['fastk'] > 70) | (dataframe['fastd'] > 70)) &\n",
    "        (dataframe['fastk-previous'] < dataframe['fastd-previous']) &\n",
    "        (dataframe['close'] > dataframe['ema5'])\n",
    "    ),\n",
    "    'Signal'] = 0"
   ]
  },
  {
   "cell_type": "markdown",
   "metadata": {},
   "source": [
    "( how we usuall produce dataframe and plots for how well the strategy did on its own with the dataset)\n",
    "this will need to be adjusted depending on the output of the strategy data"
   ]
  },
  {
   "cell_type": "code",
   "execution_count": null,
   "metadata": {},
   "outputs": [],
   "source": [
    "signals_df = dataframe.copy()\n",
    "\n",
    "signals['Signal'].value_counts()\n",
    "# Calculate the strategy returns and add them to the DataFrame\n",
    "signals_df['Actual Returns'] = dataframe['Close'].pct_change()\n",
    "signals_df['Strategy Returns'] = signals_df['Actual Returns'] * signals_df['Signal'].shift()\n",
    "\n",
    "# Plot Strategy Returns to examine performance\n",
    "(1 + signals_df['Strategy Returns']).cumprod().plot(title=\"Strategy Returns- Strategy 1\")\n",
    "(1 + signals_df['Actual Returns']).cumprod().sum()\n",
    "(1 + signals_df['Strategy Returns']).cumprod().sum()"
   ]
  },
  {
   "cell_type": "markdown",
   "metadata": {},
   "source": [
    "## Define training and testing datasets"
   ]
  },
  {
   "cell_type": "code",
   "execution_count": null,
   "metadata": {},
   "outputs": [],
   "source": [
    "# Assign a copy of the sma_fast and sma_slow columns to a features DataFrame called X\n",
    "X = signals_df[['XXXXXXXXX', 'XXXXXXX']].shift().dropna().copy()\n",
    "# Create the target set selecting the Signal column and assiging it to y\n",
    "y = signals_df['Signal'].copy()"
   ]
  },
  {
   "cell_type": "code",
   "execution_count": null,
   "metadata": {},
   "outputs": [],
   "source": [
    "# Review the value counts\n",
    "y.value_counts()"
   ]
  },
  {
   "cell_type": "code",
   "execution_count": null,
   "metadata": {},
   "outputs": [],
   "source": [
    "# Select the start of the training period\n",
    "training_begin = X.index.min()\n",
    "training_end = X.index.min() + DateOffset(months=6)\n",
    "\n",
    "# Generate the X_train and y_train DataFrames\n",
    "X_train = X.loc[training_begin:training_end]\n",
    "y_train = y.loc[training_begin:training_end]\n",
    "\n",
    "# Review the X_train DataFrame\n",
    "display(X_train.head())\n",
    "display(X_train.tail())\n",
    "\n",
    "# Generate the X_test and y_test DataFrames\n",
    "X_test = X.loc[training_end+DateOffset(hours=1):]\n",
    "y_test = y.loc[training_end+DateOffset(hours=1):]\n",
    "\n",
    "# Review the X_test DataFrame\n",
    "display(X_test.head())\n",
    "display(X_test.tail())"
   ]
  },
  {
   "cell_type": "code",
   "execution_count": null,
   "metadata": {},
   "outputs": [],
   "source": [
    "# Scale the features DataFrames\n",
    "scaler = StandardScaler()\n",
    "\n",
    "X_scaler = scaler.fit(X_train)\n",
    "X_train_scaled = X_scaler.transform(X_train)\n",
    "X_test_scaled = X_scaler.transform(X_test)"
   ]
  },
  {
   "cell_type": "markdown",
   "metadata": {},
   "source": [
    "## Model #1: Support Vector Classifier (SVC) from sklearn library"
   ]
  },
  {
   "cell_type": "code",
   "execution_count": null,
   "metadata": {},
   "outputs": [],
   "source": [
    "# From SVM, instantiate SVC classifier model instance\n",
    "svc_model = svm.SVC()\n",
    " \n",
    "svc_model = svc_model.fit(X_train_scaled, y_train)\n",
    " \n",
    "svc_pred = svc_model.predict(X_test_scaled)\n",
    "\n",
    "display(svc_pred[:10])"
   ]
  },
  {
   "cell_type": "markdown",
   "metadata": {},
   "source": [
    "### Evaluation metrics"
   ]
  },
  {
   "cell_type": "code",
   "execution_count": null,
   "metadata": {},
   "outputs": [],
   "source": [
    "svc_testing_report = classification_report(y_test, svc_pred)\n",
    "print(svc_testing_report)"
   ]
  },
  {
   "cell_type": "code",
   "execution_count": null,
   "metadata": {},
   "outputs": [],
   "source": [
    "# Calculate R_Square and Adjusted R Square\n",
    "# The closer R2 and R2_adj are to 1 the better the model fit\n",
    "R2 = r2_score(y_test, svc_pred)\n",
    "#n is the sample size and p is the number of independent variables\n",
    "R2_adj = 1-(1-R2)*((len(y_test))-1)/((len(y_test))-1-1)\n",
    "print(\"The R squared is\", R2)\n",
    "print (\"The R squared adjusted is\", R2_adj)"
   ]
  },
  {
   "cell_type": "code",
   "execution_count": null,
   "metadata": {},
   "outputs": [],
   "source": [
    "# Calculate mean squared error and sqr rt of mean squared error\n",
    "# The closer MSE & srMSE are to 0 the better the model fit\n",
    "mse = (mean_squared_error(y_test, svc_pred))\n",
    "sqr_mse = (math.sqrt(mean_squared_error(y_test, svc_pred)))\n",
    "print(f\"The mean square error is\", mse)\n",
    "print(f\"The square root of the mse is\", sqr_mse)"
   ]
  },
  {
   "cell_type": "code",
   "execution_count": null,
   "metadata": {},
   "outputs": [],
   "source": [
    "\n",
    "# Create a predictions DataFrame\n",
    "predictions_df = pd.DataFrame(index=X_test.index)\n",
    "# Add the SVM model predictions to the DataFrame\n",
    "predictions_df['SVC Predicted'] = svm_pred\n",
    "\n",
    "# Add the actual returns to the DataFrame\n",
    "predictions_df['Actual Returns'] = dataframe[\"Actual Returns\"]\n",
    "\n",
    "# Add the strategy returns to the DataFrame\n",
    "predictions_df['SVC Strategy Returns'] = predictions_df['Actual Returns'] * predictions_df['SVC Predicted']\n",
    "\n",
    "# Review the DataFrame\n",
    "display(predictions_df.head())\n",
    "display(predictions_df.tail())"
   ]
  },
  {
   "cell_type": "code",
   "execution_count": null,
   "metadata": {},
   "outputs": [],
   "source": [
    "(1 + predictions_df[['SVC Strategy Returns']]).cumprod().sum()"
   ]
  },
  {
   "cell_type": "code",
   "execution_count": null,
   "metadata": {},
   "outputs": [],
   "source": [
    "(1 + predictions_df[['Actual Returns']]).cumprod().sum()"
   ]
  },
  {
   "cell_type": "code",
   "execution_count": null,
   "metadata": {},
   "outputs": [],
   "source": [
    "# Plot the actual returns versus the strategy returns\n",
    "(1 + predictions_df[['SVC Strategy Returns','Actual Returns']]).cumprod().plot(title=\"SVC Strategy Returns vs. Actual Returns with Support Vecotr Classifier model, 2021-2022\")\n"
   ]
  },
  {
   "cell_type": "markdown",
   "metadata": {},
   "source": [
    "### Backtest the model 1: SVC to evaluate its performance."
   ]
  },
  {
   "cell_type": "markdown",
   "metadata": {},
   "source": [
    "## Model #2: Random Forest Classifier from sklearn library"
   ]
  },
  {
   "cell_type": "code",
   "execution_count": null,
   "metadata": {},
   "outputs": [],
   "source": [
    "# Import a new classifier from SKLearn\n",
    "from sklearn.tree import RandomForestClassifier\n",
    "\n",
    "# Initiate the model instance\n",
    "RFC = RandomForestClassifier(max_depth=3, random_state=1)\n",
    "\n",
    "# Fit the model using the training data\n",
    "model = RFC.fit(X_train, y_train)\n",
    "\n",
    "# Use the testing dataset to generate the predictions for the new model\n",
    "forest_pred = RFC.predict(X_test)\n",
    "\n",
    "# Review the model's predicted values\n",
    "forest_pred[:10]"
   ]
  },
  {
   "cell_type": "markdown",
   "metadata": {},
   "source": [
    "### Evaluation Metrics"
   ]
  },
  {
   "cell_type": "code",
   "execution_count": null,
   "metadata": {},
   "outputs": [],
   "source": [
    "# Use a classification report to evaluate the model using the predictions and testing data\n",
    "forest_pred_report = classification_report(y_test, forest_pred)\n",
    "\n",
    "# Print the classification report\n",
    "print(forest_pred_report)\n"
   ]
  },
  {
   "cell_type": "code",
   "execution_count": null,
   "metadata": {},
   "outputs": [],
   "source": [
    "# Calculate R_Square and Adjusted R Square\n",
    "# The closer R2 and R2_adj are to 1 the better the model fit\n",
    "R2 = r2_score(y_test, forest_pred)\n",
    "#n is the sample size and p is the number of independent variables\n",
    "R2_adj = 1-(1-R2)*((len(y_test))-1)/((len(y_test))-1-1)\n",
    "print(\"The R squared is\", R2)\n",
    "print (\"The R squared adjusted is\", R2_adj)"
   ]
  },
  {
   "cell_type": "code",
   "execution_count": null,
   "metadata": {},
   "outputs": [],
   "source": [
    "# Calculate mean squared error and sqr rt of mean squared error\n",
    "# The closer MSE & srMSE are to 0 the better the model fit\n",
    "mse = (mean_squared_error(y_test, forest_pred))\n",
    "sqr_mse = (math.sqrt(mean_squared_error(y_test, forest_pred)))\n",
    "print(f\"The mean square error is\", mse)\n",
    "print(f\"The square root of the mse is\", sqr_mse)"
   ]
  },
  {
   "cell_type": "code",
   "execution_count": null,
   "metadata": {},
   "outputs": [],
   "source": [
    "# Add RVR model predictions to predicitons dataframe\n",
    "predictions_df['RFC Predictions'] = forest_pred\n",
    "\n",
    "predictions_df['RFC Strategy Returns'] = predictions_df['Actual Returns'] * predictions_df['RFC Predictions']\n",
    "\n",
    "# Review the DataFrame\n",
    "predictions_df"
   ]
  },
  {
   "cell_type": "code",
   "execution_count": null,
   "metadata": {},
   "outputs": [],
   "source": [
    "(1 + predictions_df[['RFC Strategy Returns']]).cumprod().sum()"
   ]
  },
  {
   "cell_type": "code",
   "execution_count": null,
   "metadata": {},
   "outputs": [],
   "source": [
    "(1 + predictions_df[['Actual Returns']]).cumprod().sum()"
   ]
  },
  {
   "cell_type": "code",
   "execution_count": null,
   "metadata": {},
   "outputs": [],
   "source": [
    "# Plot the actual returns versus the strategy returns\n",
    "(1 + predictions_df[['RFC Strategy Returns','Actual Returns']]).cumprod().plot(title=\"RFC Strategy Returns vs. Actual with Random Forest Classifier model, 2021-2022\")"
   ]
  },
  {
   "cell_type": "markdown",
   "metadata": {},
   "source": [
    "### Backtest the model 2: RVC to evaluate its performance. "
   ]
  },
  {
   "cell_type": "markdown",
   "metadata": {},
   "source": [
    "## Model #3: KNearest Neighbors Classifier (kNN) from sklearn library"
   ]
  },
  {
   "cell_type": "code",
   "execution_count": null,
   "metadata": {},
   "outputs": [],
   "source": [
    "from sklearn.neighbors import KNeighborsClassifier"
   ]
  },
  {
   "cell_type": "code",
   "execution_count": null,
   "metadata": {},
   "outputs": [],
   "source": [
    "kNN = KNeighborsClassifier(n_neighbors = 3)\n",
    "kNN = kNN.fit(X_train_scaled, y_train)\n",
    "kNN_pred = kNN.predict(X_test_scaled)\n"
   ]
  },
  {
   "cell_type": "markdown",
   "metadata": {},
   "source": [
    "### Evaluation Metrics"
   ]
  },
  {
   "cell_type": "code",
   "execution_count": null,
   "metadata": {},
   "outputs": [],
   "source": [
    "# Use a classification report to evaluate the model using the predictions and testing data\n",
    "kNN_pred_report = classification_report(y_test, kNN_pred)\n",
    "\n",
    "# Print the classification report\n",
    "print(kNN_pred_report)\n"
   ]
  },
  {
   "cell_type": "code",
   "execution_count": null,
   "metadata": {},
   "outputs": [],
   "source": [
    "# Calculate R_Square and Adjusted R Square\n",
    "# The closer R2 and R2_adj are to 1 the better the model fit\n",
    "R2 = r2_score(y_test, kNN_pred)\n",
    "#n is the sample size and p is the number of independent variables\n",
    "R2_adj = 1-(1-R2)*((len(y_test))-1)/((len(y_test))-1-1)\n",
    "print(\"The R squared is\", R2)\n",
    "print (\"The R squared adjusted is\", R2_adj)"
   ]
  },
  {
   "cell_type": "code",
   "execution_count": null,
   "metadata": {},
   "outputs": [],
   "source": [
    "# Calculate mean squared error and sqr rt of mean squared error\n",
    "# The closer MSE & srMSE are to 0 the better the model fit\n",
    "mse = (mean_squared_error(y_test, kNN_pred))\n",
    "sqr_mse = (math.sqrt(mean_squared_error(y_test, kNN_pred)))\n",
    "print(f\"The mean square error is\", mse)\n",
    "print(f\"The square root of the mse is\", sqr_mse)"
   ]
  },
  {
   "cell_type": "code",
   "execution_count": null,
   "metadata": {},
   "outputs": [],
   "source": [
    "\n",
    "# Add the kNN model predictions to the DataFrame\n",
    "predictions_df['kNN Predictions'] = kNN_pred\n",
    "\n",
    "# Add the strategy returns to the DataFrame\n",
    "predictions_df['kNN Strategy Returns'] = predictions_df['Actual Returns'] * predictions_df['kNN Predictions']\n"
   ]
  },
  {
   "cell_type": "code",
   "execution_count": null,
   "metadata": {},
   "outputs": [],
   "source": [
    "# Plot the actual returns versus the strategy returns\n",
    "(1 + kNN_predictions_df[['kNN Strategy Returns','Actual Returns']]).cumprod().plot(title=\"kNN Strategy Returns vs. Actual with kNearest Neighbor Classifier model, 2021-2022\")"
   ]
  },
  {
   "cell_type": "markdown",
   "metadata": {},
   "source": [
    "### Backtest the model 3: kNN to evaluate its performance. "
   ]
  },
  {
   "cell_type": "code",
   "execution_count": null,
   "metadata": {},
   "outputs": [],
   "source": []
  }
 ],
 "metadata": {
  "kernelspec": {
   "display_name": "dev",
   "language": "python",
   "name": "dev"
  },
  "language_info": {
   "codemirror_mode": {
    "name": "ipython",
    "version": 3
   },
   "file_extension": ".py",
   "mimetype": "text/x-python",
   "name": "python",
   "nbconvert_exporter": "python",
   "pygments_lexer": "ipython3",
   "version": "3.7.13"
  }
 },
 "nbformat": 4,
 "nbformat_minor": 4
}

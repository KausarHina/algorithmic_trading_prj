{
 "cells": [
  {
   "cell_type": "markdown",
   "metadata": {
    "tags": []
   },
   "source": [
    "# Trade Strategy 2 with Machine Learning\n",
    "\n",
    "\n",
    "## Outline:\n",
    "* Set parameters of interest & Import Data\n",
    "\n",
    "* Establish Trading Strategy with signals\n",
    "\n",
    "* Identify Training & Testing dataset, Scale data if necessary\n",
    "\n",
    "* Run model 1: Support Vector Classifier\n",
    "\n",
    "    * Evaluate Performance\n",
    "    * Backtest\n",
    "\n",
    "* Run model 2: Random Forest Classififier\n",
    "\n",
    "    * Evaluate Performance\n",
    "    * Backtest\n",
    "    \n",
    "* Run model 2: k Nearest Neighbor Classifier\n",
    "\n",
    "    * Evaluate Performance\n",
    "    * Backtest"
   ]
  },
  {
   "cell_type": "code",
   "execution_count": null,
   "metadata": {},
   "outputs": [],
   "source": [
    "# Imports\n",
    "import pandas as pd\n",
    "import numpy as np\n",
    "from pathlib import Path\n",
    "import hvplot.pandas\n",
    "import matplotlib.pyplot as plt\n",
    "import talib as TA\n",
    "from sklearn import svm\n",
    "from sklearn.preprocessing import StandardScaler\n",
    "from imblearn.over_sampling import RandomOverSampler\n",
    "from pandas.tseries.offsets import DateOffset\n",
    "from sklearn.metrics import classification_report\n",
    "from sklearn.metrics import mean_squared_error, r2_score\n",
    "import math"
   ]
  },
  {
   "cell_type": "markdown",
   "metadata": {},
   "source": [
    "### Set Parameters & Import the OHLCV dataset into a Pandas DataFrame."
   ]
  },
  {
   "cell_type": "code",
   "execution_count": null,
   "metadata": {},
   "outputs": [],
   "source": [
    "# choose coin of interest: BTC,ETH,XRP,DOGE,ADA\n",
    "# choose pair of interest: USD, USDT\n",
    "coin = 'BTC'\n",
    "pair = 'USD'\n",
    "\n",
    "# choose exchange of interest Bitfinex, Binance, Coinbase\n",
    "exchange = 'Bitfinex'\n",
    "\n",
    "# choose data interval of interest 1h, 1d\n",
    "time = '1h'\n",
    "\n",
    "# get saved histoical csv data from Data folder, which was downloaded from cryptoDataOnline.com\n",
    "df = pd.read_csv(Path(f\"./Data/{exchange}/{pair}/{exchange}_{coin}_{time}.csv\"), index_col= \"Datetime\", parse_dates= True, infer_datetime_format = True)\n",
    "display (df.head())\n"
   ]
  },
  {
   "cell_type": "code",
   "execution_count": null,
   "metadata": {},
   "outputs": [],
   "source": [
    "dataframe = df.drop(columns=['Exchange','Symbol_Pair','Volume_in_BTC']).copy()\n",
    "dataframe = dataframe.rename(columns={'Volume_USD': 'Volume'})\n",
    "dataframe = dataframe.sort_index(ascending=True)\n",
    "\n",
    "print(f\"The timeframe contained in this dataset is: {dataframe.index.min()} to {dataframe.index.max()}\")\n",
    "\n",
    "# chose start and end times of data to analze\n",
    "start = '2019-01-01 00:00:00'\n",
    "end = '2023-01-12 00:00:00'\n",
    "dataframe = dataframe.loc[start:end ,:]\n",
    "\n",
    "print(f\"Timeframe to be evaluated in strategy and model: {start} to {end}\")"
   ]
  },
  {
   "cell_type": "markdown",
   "metadata": {},
   "source": [
    "## Define trading strategy with entry and exit signals"
   ]
  },
  {
   "cell_type": "code",
   "execution_count": null,
   "metadata": {},
   "outputs": [],
   "source": [
    "#Strategy 1\n",
    "minimal_roi = {\n",
    "        \"60\":  0.01,\n",
    "        \"30\":  0.03,\n",
    "        \"20\":  0.04,\n",
    "        \"0\":  0.05\n",
    "    }\n",
    "timeframe = '1h'\n",
    "\n",
    "\n",
    "# ADX = Average Directional Movement Index (Momentum Indicator)\n",
    "dataframe['adx'] = TA.ADX(dataframe, timeperiod=10)\n",
    "dataframe['slowadx'] = TA.ADX(dataframe, timeperiod=35)\n",
    "\n",
    "# Commodity Channel Index: values Oversold:<-100, Overbought:>100\n",
    "dataframe['cci'] = TA.CCI(dataframe)\n",
    "\n",
    "# Stoch\n",
    "stoch = TA.STOCH(dataframe, 5)\n",
    "dataframe['fastd'] = stoch['fastd']\n",
    "dataframe['fastk'] = stoch['fastk']\n",
    "dataframe['fastk-previous'] = dataframe.fastk.shift(1)\n",
    "dataframe['fastd-previous'] = dataframe.fastd.shift(1)\n",
    "\n",
    "# Slow Stoch\n",
    "slowstoch = TA.STOCH(dataframe, 50)\n",
    "dataframe['slowfastd'] = slowstoch['fastd']\n",
    "dataframe['slowfastk'] = slowstoch['fastk']\n",
    "dataframe['slowfastk-previous'] = dataframe.slowfastk.shift(1)\n",
    "dataframe['slowfastd-previous'] = dataframe.slowfastd.shift(1)\n",
    "\n",
    "# EMA - Exponential Moving Average\n",
    "dataframe['ema5'] = TA.EMA(dataframe, 5)\n",
    "        \n",
    "# get the rolling volume mean for the last hour (12x5)\n",
    "# Note: dataframe['volume'].mean() uses the whole dataframe in \n",
    "# backtesting hence will have lookahead, but would be fine for dry/live use\n",
    "dataframe['mean-volume'] = dataframe['Volume'].rolling(12).mean()\n",
    "\n",
    "# Review the DataFrame\n",
    "display(dataframe.head())\n",
    "display(dataframe.tail())"
   ]
  },
  {
   "cell_type": "code",
   "execution_count": null,
   "metadata": {},
   "outputs": [],
   "source": [
    "#plot\n",
    "data = dataframe.hvplot(x='Datetime', y=['Close','XXXXXXX',\"XXXX'......], value_label = 'USD')\n",
    "data"
   ]
  },
  {
   "cell_type": "code",
   "execution_count": null,
   "metadata": {},
   "outputs": [],
   "source": [
    "# Entry and Exit Signals\n",
    "dataframe['Signal'] = 0.0  #enter long trade signal =1, exit long trade signal = 0\n",
    "\n",
    "\n",
    "dataframe.loc[\n",
    "            (\n",
    "                (\n",
    "                    (dataframe['adx'] > 50) |\n",
    "                    (dataframe['slowadx'] > 26)\n",
    "                ) &\n",
    "                (dataframe['cci'] < -100) &\n",
    "                (\n",
    "                    (dataframe['fastk-previous'] < 20) &\n",
    "                    (dataframe['fastd-previous'] < 20)\n",
    "                ) &\n",
    "                (\n",
    "                    (dataframe['slowfastk-previous'] < 30) &\n",
    "                    (dataframe['slowfastd-previous'] < 30)\n",
    "                ) &\n",
    "                (dataframe['fastk-previous'] < dataframe['fastd-previous']) &\n",
    "                (dataframe['fastk'] > dataframe['fastd']) &\n",
    "                (dataframe['mean-volume'] > 0.75) &\n",
    "                (dataframe['close'] > 0.00000100)\n",
    "            ),\n",
    "            'Signal'] = 1\n",
    "\n",
    "#Exit Trend\n",
    "dataframe.loc[\n",
    "    (\n",
    "        (dataframe['slowadx'] < 25) &\n",
    "        ((dataframe['fastk'] > 70) | (dataframe['fastd'] > 70)) &\n",
    "        (dataframe['fastk-previous'] < dataframe['fastd-previous']) &\n",
    "        (dataframe['close'] > dataframe['ema5'])\n",
    "    ),\n",
    "    'Signal'] = 0"
   ]
  },
  {
   "cell_type": "code",
   "execution_count": null,
   "metadata": {},
   "outputs": [],
   "source": [
    "signals_df = dataframe.copy()\n",
    "\n",
    "signals['Signal'].value_counts()\n",
    "\n",
    "# Calculate the strategy returns and add them to the DataFrame\n",
    "signals_df['Actual Returns'] = dataframe['Close'].pct_change()\n",
    "signals_df['Strategy Returns'] = signals_df['Actual Returns'] * signals_df['Signal'].shift()\n",
    "\n",
    "# Plot Strategy Returns to examine performance\n",
    "(1 + signals_df['Strategy Returns']).cumprod().plot(title=\"Strategy Returns- Strategy 1\")\n",
    "(1 + signals_df['Actual Returns']).cumprod().sum()\n",
    "(1 + signals_df['Strategy Returns']).cumprod().sum()"
   ]
  },
  {
   "cell_type": "code",
   "execution_count": null,
   "metadata": {},
   "outputs": [],
   "source": [
    "#Plot"
   ]
  },
  {
   "cell_type": "markdown",
   "metadata": {},
   "source": [
    "## Define training and testing datasets"
   ]
  },
  {
   "cell_type": "code",
   "execution_count": null,
   "metadata": {},
   "outputs": [],
   "source": [
    "# Assign a copy of the sma_fast and sma_slow columns to a features DataFrame called X\n",
    "X = signals_df[['XXXXXXXXX', 'XXXXXXX']].shift().dropna().copy()\n",
    "# Create the target set selecting the Signal column and assiging it to y\n",
    "y = signals_df['Signal'].copy()"
   ]
  },
  {
   "cell_type": "code",
   "execution_count": null,
   "metadata": {},
   "outputs": [],
   "source": [
    "display(X.head())\n",
    "display(y.head())"
   ]
  },
  {
   "cell_type": "code",
   "execution_count": null,
   "metadata": {},
   "outputs": [],
   "source": [
    "display(X.shape)\n",
    "display(y.shape)\n",
    "display(X.index.max())\n",
    "display(X.index.min())\n",
    "display(y.index.max())\n",
    "display(y.index.min())"
   ]
  },
  {
   "cell_type": "code",
   "execution_count": null,
   "metadata": {},
   "outputs": [],
   "source": [
    "# Review the value counts\n",
    "y.value_counts()"
   ]
  },
  {
   "cell_type": "code",
   "execution_count": null,
   "metadata": {},
   "outputs": [],
   "source": [
    "# Select the start of the training period\n",
    "training_begin = X.index.min()\n",
    "training_end = X.index.min() + DateOffset(months=6)\n",
    "\n",
    "# Generate the X_train and y_train DataFrames\n",
    "X_train = X.loc[training_begin:training_end]\n",
    "y_train = y.loc[training_begin:training_end]\n",
    "\n",
    "# Review the X_train DataFrame\n",
    "display(X_train.head())\n",
    "display(X_train.tail())\n",
    "\n",
    "# Generate the X_test and y_test DataFrames\n",
    "X_test = X.loc[training_end+DateOffset(hours=1):]\n",
    "y_test = y.loc[training_end+DateOffset(hours=1):]\n",
    "\n",
    "# Review the X_test DataFrame\n",
    "display(X_test.head())\n",
    "display(X_test.tail())"
   ]
  },
  {
   "cell_type": "code",
   "execution_count": null,
   "metadata": {},
   "outputs": [],
   "source": [
    "# Scale the features DataFrames\n",
    "scaler = StandardScaler()\n",
    "\n",
    "# Apply the scaler model to fit the X-train data\n",
    "X_scaler = scaler.fit(X_train)\n",
    "\n",
    "# Transform the X_train and X_test DataFrames using the X_scaler\n",
    "X_train_scaled = X_scaler.transform(X_train)\n",
    "X_test_scaled = X_scaler.transform(X_test)"
   ]
  },
  {
   "cell_type": "code",
   "execution_count": null,
   "metadata": {},
   "outputs": [],
   "source": [
    "# from imblearn.over_sampling import RandomOverSampler\n",
    "# ros = RandomOverSampler(random_state = 1)\n",
    "# X_resampled, y_resampled = ros.fit_resample(X_train_scaled, y_train)"
   ]
  },
  {
   "cell_type": "markdown",
   "metadata": {},
   "source": [
    "## Model #1: Support Vector Classifier (SVC) from sklearn library"
   ]
  },
  {
   "cell_type": "code",
   "execution_count": null,
   "metadata": {},
   "outputs": [],
   "source": [
    "# From SVM, instantiate SVC classifier model instance\n",
    "svc_model = svm.SVC()\n",
    " \n",
    "svc_model = svc_model.fit(X_train_scaled, y_train)\n",
    " \n",
    "svc_pred = svc_model.predict(X_test_scaled)\n",
    "\n",
    "display(svc_pred[:10])"
   ]
  },
  {
   "cell_type": "markdown",
   "metadata": {},
   "source": [
    "### Evaluation metrics"
   ]
  },
  {
   "cell_type": "code",
   "execution_count": null,
   "metadata": {},
   "outputs": [],
   "source": [
    "svc_pred.shape"
   ]
  },
  {
   "cell_type": "code",
   "execution_count": null,
   "metadata": {},
   "outputs": [],
   "source": [
    "svc_testing_report = classification_report(y_test, svc_pred)\n",
    "print(svc_testing_report)"
   ]
  },
  {
   "cell_type": "code",
   "execution_count": null,
   "metadata": {},
   "outputs": [],
   "source": [
    "# Calculate R_Square and Adjusted R Square\n",
    "# The closer R2 and R2_adj are to 1 the better the model fit\n",
    "R2 = r2_score(y_test, svc_pred)\n",
    "#n is the sample size and p is the number of independent variables\n",
    "R2_adj = 1-(1-R2)*((len(y_test))-1)/((len(y_test))-1-1)\n",
    "print(\"The R squared is\", R2)\n",
    "print (\"The R squared adjusted is\", R2_adj)"
   ]
  },
  {
   "cell_type": "code",
   "execution_count": null,
   "metadata": {},
   "outputs": [],
   "source": [
    "# Calculate mean squared error and sqr rt of mean squared error\n",
    "# The closer MSE & srMSE are to 0 the better the model fit\n",
    "mse = (mean_squared_error(y_test, svc_pred))\n",
    "sqr_mse = (math.sqrt(mean_squared_error(y_test, svc_pred)))\n",
    "print(f\"The mean square error is\", mse)\n",
    "print(f\"The square root of the mse is\", sqr_mse)"
   ]
  },
  {
   "cell_type": "code",
   "execution_count": null,
   "metadata": {},
   "outputs": [],
   "source": [
    "# Create a predictions DataFrame\n",
    "predictions_df = pd.DataFrame(index=X_test.index)\n",
    "\n",
    "# Add the SVM model predictions to the DataFrame\n",
    "predictions_df['SVC Predicted'] = svc_pred\n",
    "\n",
    "# Add the actual returns to the DataFrame\n",
    "predictions_df['Actual Returns'] = dataframe[\"Actual Returns\"]\n",
    "\n",
    "# Add the strategy returns to the DataFrame\n",
    "predictions_df['SVC Strategy Returns'] = predictions_df['Actual Returns'] * predictions_df['SVC Predicted']\n",
    "\n",
    "# Review the DataFrame\n",
    "display(predictions_df.head())\n",
    "display(predictions_df.tail())"
   ]
  },
  {
   "cell_type": "code",
   "execution_count": null,
   "metadata": {},
   "outputs": [],
   "source": [
    "(1 + predictions_df[['SVC Strategy Returns']]).cumprod().sum()"
   ]
  },
  {
   "cell_type": "code",
   "execution_count": null,
   "metadata": {},
   "outputs": [],
   "source": [
    "(1 + predictions_df[['Actual Returns']]).cumprod().sum()"
   ]
  },
  {
   "cell_type": "code",
   "execution_count": null,
   "metadata": {},
   "outputs": [],
   "source": [
    "# Plot the actual returns versus the strategy returns\n",
    "(1 + predictions_df[['SVC Strategy Returns','Actual Returns']]).cumprod().plot(title=\"SVC Strategy Returns vs. Actual Returns with Support Vecotr Classifier model\")\n"
   ]
  },
  {
   "cell_type": "markdown",
   "metadata": {},
   "source": [
    "### Backtest the model 1: SVC to evaluate its performance."
   ]
  },
  {
   "cell_type": "code",
   "execution_count": null,
   "metadata": {},
   "outputs": [],
   "source": [
    "# Initial Capital Investment\n",
    "initial_capital = float(1000)\n",
    "\n",
    "# Share size of each trade\n",
    "share_size = 50\n",
    "\n",
    "#select timeframe of Backtesting\n",
    "start = '2019-05-01'\n",
    "end = '2020-02-01'\n",
    "signals_df = predictions_df.loc[start:end,:].copy()"
   ]
  },
  {
   "cell_type": "code",
   "execution_count": null,
   "metadata": {},
   "outputs": [],
   "source": [
    "# Buy a 50 share position when the signal is 1\n",
    "# Sell a 50 share position when the signal is 0\n",
    "signals_df['Position'] = share_size * predictions_df['SVC Predicted']\n",
    "# Determine the points in time where a 500 share position is bought or sold\n",
    "signals_df['Entry/Exit Position'] = signals_df['Position'].diff()\n",
    "# Multiply the close price by the number of shares held, or the Position\n",
    "signals_df['Portfolio Holdings'] = signals_df['Close'] * signals_df['Position']\n",
    "# Subtract the amount of either the cost or proceeds of the trade from the initial capital invested\n",
    "signals_df['Portfolio Cash'] = initial_capital - (signals_df['Close'] * signals_df['Entry/Exit Position']).cumsum()\n",
    "# Calculate the total portfolio value by adding the portfolio cash to the portfolio holdings (or investments)\n",
    "signals_df['Portfolio Total'] = signals_df['Portfolio Cash'] + signals_df['Portfolio Holdings']\n",
    "# Calculate the portfolio daily returns\n",
    "signals_df['Portfolio Daily Returns'] = signals_df['Portfolio Total'].pct_change()\n",
    "# Calculate the portfolio cumulative returns\n",
    "signals_df['Portfolio Cumulative Returns'] = (1 + signals_df['Portfolio Daily Returns']).cumprod() - 1\n",
    "signals_df.tail(10)"
   ]
  },
  {
   "cell_type": "code",
   "execution_count": null,
   "metadata": {},
   "outputs": [],
   "source": [
    "# Visualize exit position relative to total portfolio value\n",
    "exit = signals_df[signals_df['Entry/Exit'] == -1.0]['Portfolio Total'].hvplot.scatter(\n",
    "    color='yellow',\n",
    "    marker='v',\n",
    "    legend=False,\n",
    "    ylabel='Total Portfolio Value',\n",
    "    width=1000,\n",
    "    height=400\n",
    ")\n",
    "\n",
    "# Visualize entry position relative to total portfolio value\n",
    "entry = signals_df[signals_df['Entry/Exit'] == 1.0]['Portfolio Total'].hvplot.scatter(\n",
    "    color='purple',\n",
    "    marker='^',\n",
    "    ylabel='Total Portfolio Value',\n",
    "    width=1000,\n",
    "    height=400\n",
    ")\n",
    "\n",
    "# Visualize the value of the total portfolio\n",
    "total_portfolio_value = signals_df[['Portfolio Total']].hvplot(\n",
    "    line_color='lightgray',\n",
    "    ylabel='Total Portfolio Value',\n",
    "    xlabel='Date',\n",
    "    width=1000,\n",
    "    height=400\n",
    ")\n",
    "\n",
    "# Overlay the plots\n",
    "portfolio_entry_exit_plot = total_portfolio_value * entry * exit\n",
    "portfolio_entry_exit_plot.opts(\n",
    "    title=\"BTC Algorithm with SVC Preditions- Total Portfolio Value\",\n",
    "    yformatter='%.0f'\n",
    ")"
   ]
  },
  {
   "cell_type": "markdown",
   "metadata": {},
   "source": [
    "## Model #2: Random Forest Classifier from sklearn library"
   ]
  },
  {
   "cell_type": "code",
   "execution_count": null,
   "metadata": {},
   "outputs": [],
   "source": [
    "# Import a new classifier from SKLearn\n",
    "from sklearn.tree import RandomForestClassifier\n",
    "\n",
    "# Initiate the model instance\n",
    "RFC = RandomForestClassifier(max_depth=3, random_state=1)\n",
    "\n",
    "# Fit the model using the training data\n",
    "model = RFC.fit(X_train, y_train)\n",
    "\n",
    "# Use the testing dataset to generate the predictions for the new model\n",
    "forest_pred = RFC.predict(X_test)\n",
    "\n",
    "# Review the model's predicted values\n",
    "forest_pred[:10]"
   ]
  },
  {
   "cell_type": "markdown",
   "metadata": {},
   "source": [
    "### Evaluation Metrics"
   ]
  },
  {
   "cell_type": "code",
   "execution_count": null,
   "metadata": {},
   "outputs": [],
   "source": [
    "# Use a classification report to evaluate the model using the predictions and testing data\n",
    "forest_pred_report = classification_report(y_test, forest_pred)\n",
    "\n",
    "# Print the classification report\n",
    "print(forest_pred_report)\n"
   ]
  },
  {
   "cell_type": "code",
   "execution_count": null,
   "metadata": {},
   "outputs": [],
   "source": [
    "# Calculate R_Square and Adjusted R Square\n",
    "# The closer R2 and R2_adj are to 1 the better the model fit\n",
    "R2 = r2_score(y_test, forest_pred)\n",
    "#n is the sample size and p is the number of independent variables\n",
    "R2_adj = 1-(1-R2)*((len(y_test))-1)/((len(y_test))-1-1)\n",
    "print(\"The R squared is\", R2)\n",
    "print (\"The R squared adjusted is\", R2_adj)"
   ]
  },
  {
   "cell_type": "code",
   "execution_count": null,
   "metadata": {},
   "outputs": [],
   "source": [
    "# Calculate mean squared error and sqr rt of mean squared error\n",
    "# The closer MSE & srMSE are to 0 the better the model fit\n",
    "mse = (mean_squared_error(y_test, forest_pred))\n",
    "sqr_mse = (math.sqrt(mean_squared_error(y_test, forest_pred)))\n",
    "print(f\"The mean square error is\", mse)\n",
    "print(f\"The square root of the mse is\", sqr_mse)"
   ]
  },
  {
   "cell_type": "code",
   "execution_count": null,
   "metadata": {},
   "outputs": [],
   "source": [
    "# Add RVR model predictions to predicitons dataframe\n",
    "predictions_df['RFC Predictions'] = forest_pred\n",
    "\n",
    "predictions_df['RFC Strategy Returns'] = predictions_df['Actual Returns'] * predictions_df['RFC Predictions']\n",
    "\n",
    "# Review the DataFrame\n",
    "predictions_df"
   ]
  },
  {
   "cell_type": "code",
   "execution_count": null,
   "metadata": {},
   "outputs": [],
   "source": [
    "(1 + predictions_df[['RFC Strategy Returns']]).cumprod().sum()"
   ]
  },
  {
   "cell_type": "code",
   "execution_count": null,
   "metadata": {},
   "outputs": [],
   "source": [
    "(1 + predictions_df[['Actual Returns']]).cumprod().sum()"
   ]
  },
  {
   "cell_type": "code",
   "execution_count": null,
   "metadata": {},
   "outputs": [],
   "source": [
    "# Plot the actual returns versus the strategy returns\n",
    "(1 + predictions_df[['RFC Strategy Returns','Actual Returns']]).cumprod().plot(title=\"RFC Strategy Returns vs. Actual with Random Forest Classifier model\")"
   ]
  },
  {
   "cell_type": "markdown",
   "metadata": {},
   "source": [
    "### Backtest the model 2: RVC to evaluate its performance. "
   ]
  },
  {
   "cell_type": "code",
   "execution_count": null,
   "metadata": {},
   "outputs": [],
   "source": [
    "# Initial Capital Investment\n",
    "initial_capital = float(1000)\n",
    "\n",
    "# Share size of each trade\n",
    "share_size = 50\n",
    "\n",
    "#select timeframe of Backtesting\n",
    "start = '2019-05-01'\n",
    "end = '2020-02-01'\n",
    "signals_df = predictions.loc[start:end,:].copy()"
   ]
  },
  {
   "cell_type": "code",
   "execution_count": null,
   "metadata": {},
   "outputs": [],
   "source": [
    "# Buy a 50 share position when the signal is 1\n",
    "# Sell a 50 share position when the signal is 0\n",
    "signals_df['Position'] = share_size * predictions_df['RFC Predictions']\n",
    "# Determine the points in time where a 500 share position is bought or sold\n",
    "signals_df['Entry/Exit Position'] = signals_df['Position'].diff()\n",
    "# Multiply the close price by the number of shares held, or the Position\n",
    "signals_df['Portfolio Holdings'] = signals_df['Close'] * signals_df['Position']\n",
    "# Subtract the amount of either the cost or proceeds of the trade from the initial capital invested\n",
    "signals_df['Portfolio Cash'] = initial_capital - (signals_df['Close'] * signals_df['Entry/Exit Position']).cumsum()\n",
    "# Calculate the total portfolio value by adding the portfolio cash to the portfolio holdings (or investments)\n",
    "signals_df['Portfolio Total'] = signals_df['Portfolio Cash'] + signals_df['Portfolio Holdings']\n",
    "# Calculate the portfolio daily returns\n",
    "signals_df['Portfolio Daily Returns'] = signals_df['Portfolio Total'].pct_change()\n",
    "# Calculate the portfolio cumulative returns\n",
    "signals_df['Portfolio Cumulative Returns'] = (1 + signals_df['Portfolio Daily Returns']).cumprod() - 1\n",
    "signals_df.tail(10)"
   ]
  },
  {
   "cell_type": "code",
   "execution_count": null,
   "metadata": {},
   "outputs": [],
   "source": [
    "# Visualize exit position relative to total portfolio value\n",
    "exit = signals_df[signals_df['Entry/Exit'] == -1.0]['Portfolio Total'].hvplot.scatter(\n",
    "    color='yellow',\n",
    "    marker='v',\n",
    "    legend=False,\n",
    "    ylabel='Total Portfolio Value',\n",
    "    width=1000,\n",
    "    height=400\n",
    ")\n",
    "\n",
    "# Visualize entry position relative to total portfolio value\n",
    "entry = signals_df[signals_df['Entry/Exit'] == 1.0]['Portfolio Total'].hvplot.scatter(\n",
    "    color='purple',\n",
    "    marker='^',\n",
    "    ylabel='Total Portfolio Value',\n",
    "    width=1000,\n",
    "    height=400\n",
    ")\n",
    "\n",
    "# Visualize the value of the total portfolio\n",
    "total_portfolio_value = signals_df[['Portfolio Total']].hvplot(\n",
    "    line_color='lightgray',\n",
    "    ylabel='Total Portfolio Value',\n",
    "    xlabel='Date',\n",
    "    width=1000,\n",
    "    height=400\n",
    ")\n",
    "\n",
    "# Overlay the plots\n",
    "portfolio_entry_exit_plot = total_portfolio_value * entry * exit\n",
    "portfolio_entry_exit_plot.opts(\n",
    "    title=\"BTC Algorithm with SVC Preditions- Total Portfolio Value\",\n",
    "    yformatter='%.0f'\n",
    ")"
   ]
  },
  {
   "cell_type": "markdown",
   "metadata": {},
   "source": [
    "## Model #3: KNearest Neighbors Classifier (kNN) from sklearn library"
   ]
  },
  {
   "cell_type": "code",
   "execution_count": null,
   "metadata": {},
   "outputs": [],
   "source": [
    "from sklearn.neighbors import KNeighborsClassifier"
   ]
  },
  {
   "cell_type": "code",
   "execution_count": null,
   "metadata": {},
   "outputs": [],
   "source": [
    "kNN = KNeighborsClassifier(n_neighbors = 3)\n",
    "kNN = kNN.fit(X_train_scaled, y_train)\n",
    "kNN_pred = kNN.predict(X_test_scaled)\n"
   ]
  },
  {
   "cell_type": "markdown",
   "metadata": {},
   "source": [
    "### Evaluation Metrics"
   ]
  },
  {
   "cell_type": "code",
   "execution_count": null,
   "metadata": {},
   "outputs": [],
   "source": [
    "# Use a classification report to evaluate the model using the predictions and testing data\n",
    "kNN_pred_report = classification_report(y_test, kNN_pred)\n",
    "\n",
    "# Print the classification report\n",
    "print(kNN_pred_report)\n"
   ]
  },
  {
   "cell_type": "code",
   "execution_count": null,
   "metadata": {},
   "outputs": [],
   "source": [
    "# Calculate R_Square and Adjusted R Square\n",
    "# The closer R2 and R2_adj are to 1 the better the model fit\n",
    "R2 = r2_score(y_test, kNN_pred)\n",
    "#n is the sample size and p is the number of independent variables\n",
    "R2_adj = 1-(1-R2)*((len(y_test))-1)/((len(y_test))-1-1)\n",
    "print(\"The R squared is\", R2)\n",
    "print (\"The R squared adjusted is\", R2_adj)"
   ]
  },
  {
   "cell_type": "code",
   "execution_count": null,
   "metadata": {},
   "outputs": [],
   "source": [
    "# Calculate mean squared error and sqr rt of mean squared error\n",
    "# The closer MSE & srMSE are to 0 the better the model fit\n",
    "mse = (mean_squared_error(y_test, kNN_pred))\n",
    "sqr_mse = (math.sqrt(mean_squared_error(y_test, kNN_pred)))\n",
    "print(f\"The mean square error is\", mse)\n",
    "print(f\"The square root of the mse is\", sqr_mse)"
   ]
  },
  {
   "cell_type": "code",
   "execution_count": null,
   "metadata": {},
   "outputs": [],
   "source": [
    "\n",
    "# Add the kNN model predictions to the DataFrame\n",
    "predictions_df['kNN Predictions'] = kNN_pred\n",
    "\n",
    "# Add the strategy returns to the DataFrame\n",
    "predictions_df['kNN Strategy Returns'] = predictions_df['Actual Returns'] * predictions_df['kNN Predictions']\n"
   ]
  },
  {
   "cell_type": "code",
   "execution_count": null,
   "metadata": {},
   "outputs": [],
   "source": [
    "# Plot the actual returns versus the strategy returns\n",
    "(1 + kNN_predictions_df[['kNN Strategy Returns','Actual Returns']]).cumprod().plot(title=\"kNN Strategy Returns vs. Actual with kNearest Neighbor Classifier model, 2021-2022\")"
   ]
  },
  {
   "cell_type": "markdown",
   "metadata": {},
   "source": [
    "### Backtest the model 3: kNN to evaluate its performance. "
   ]
  },
  {
   "cell_type": "code",
   "execution_count": null,
   "metadata": {},
   "outputs": [],
   "source": [
    "# Initial Capital Investment\n",
    "initial_capital = float(1000)\n",
    "\n",
    "# Share size of each trade\n",
    "share_size = 50\n",
    "\n",
    "#select timeframe of Backtesting\n",
    "start = '2019-05-01'\n",
    "end = '2020-02-01'\n",
    "signals_df = signals_df.loc[start:end,:].copy()"
   ]
  },
  {
   "cell_type": "code",
   "execution_count": null,
   "metadata": {},
   "outputs": [],
   "source": [
    "# Buy a 50 share position when the signal is 1\n",
    "# Sell a 50 share position when the signal is 0\n",
    "signals_df['Position'] = share_size * predictions_df['kNN Predictions']\n",
    "# Determine the points in time where a 500 share position is bought or sold\n",
    "signals_df['Entry/Exit Position'] = signals_df['Position'].diff()\n",
    "# Multiply the close price by the number of shares held, or the Position\n",
    "signals_df['Portfolio Holdings'] = signals_df['Close'] * signals_df['Position']\n",
    "# Subtract the amount of either the cost or proceeds of the trade from the initial capital invested\n",
    "signals_df['Portfolio Cash'] = initial_capital - (signals_df['Close'] * signals_df['Entry/Exit Position']).cumsum()\n",
    "# Calculate the total portfolio value by adding the portfolio cash to the portfolio holdings (or investments)\n",
    "signals_df['Portfolio Total'] = signals_df['Portfolio Cash'] + signals_df['Portfolio Holdings']\n",
    "# Calculate the portfolio daily returns\n",
    "signals_df['Portfolio Daily Returns'] = signals_df['Portfolio Total'].pct_change()\n",
    "# Calculate the portfolio cumulative returns\n",
    "signals_df['Portfolio Cumulative Returns'] = (1 + signals_df['Portfolio Daily Returns']).cumprod() - 1\n",
    "signals_df.tail(10)"
   ]
  },
  {
   "cell_type": "code",
   "execution_count": null,
   "metadata": {},
   "outputs": [],
   "source": [
    "# Visualize exit position relative to total portfolio value\n",
    "exit = signals_df[signals_df['Entry/Exit'] == -1.0]['Portfolio Total'].hvplot.scatter(\n",
    "    color='yellow',\n",
    "    marker='v',\n",
    "    legend=False,\n",
    "    ylabel='Total Portfolio Value',\n",
    "    width=1000,\n",
    "    height=400\n",
    ")\n",
    "\n",
    "# Visualize entry position relative to total portfolio value\n",
    "entry = signals_df[signals_df['Entry/Exit'] == 1.0]['Portfolio Total'].hvplot.scatter(\n",
    "    color='purple',\n",
    "    marker='^',\n",
    "    ylabel='Total Portfolio Value',\n",
    "    width=1000,\n",
    "    height=400\n",
    ")\n",
    "\n",
    "# Visualize the value of the total portfolio\n",
    "total_portfolio_value = signals_df[['Portfolio Total']].hvplot(\n",
    "    line_color='lightgray',\n",
    "    ylabel='Total Portfolio Value',\n",
    "    xlabel='Date',\n",
    "    width=1000,\n",
    "    height=400\n",
    ")\n",
    "\n",
    "# Overlay the plots\n",
    "portfolio_entry_exit_plot = total_portfolio_value * entry * exit\n",
    "portfolio_entry_exit_plot.opts(\n",
    "    title=\"BTC Algorithm with kNN Preditions- Total Portfolio Value\",\n",
    "    yformatter='%.0f'\n",
    ")"
   ]
  }
 ],
 "metadata": {
  "kernelspec": {
   "display_name": "dev",
   "language": "python",
   "name": "dev"
  },
  "language_info": {
   "codemirror_mode": {
    "name": "ipython",
    "version": 3
   },
   "file_extension": ".py",
   "mimetype": "text/x-python",
   "name": "python",
   "nbconvert_exporter": "python",
   "pygments_lexer": "ipython3",
   "version": "3.7.13"
  }
 },
 "nbformat": 4,
 "nbformat_minor": 4
}
